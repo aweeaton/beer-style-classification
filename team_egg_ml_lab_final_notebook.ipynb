{
 "cells": [
  {
   "cell_type": "markdown",
   "metadata": {},
   "source": [
    "<h1>Final Project: Predicting Beer Styles From Homebrewed Recipes<span class=\"tocSkip\"></span></h1>\n"
   ]
  },
  {
   "cell_type": "markdown",
   "metadata": {
    "toc": true
   },
   "source": [
    "<h1>Table of Contents<span class=\"tocSkip\"></span></h1>\n",
    "<br>\n",
    "<div class=\"toc\"><ul class=\"toc-item\">\n",
    "    <li><span><a href=\"#Libraries-Used\" data-toc-modified-id=\"Libraries-Used-1\">Libraries Used</a></span></li>\n",
    "    <li><span><a href=\"#Ingest-Data\" data-toc-modified-id=\"Ingest-Data-5\">Ingest Data</a></span></li>\n",
    "    <li><span><a href=\"#Inspect-Data\" data-toc-modified-id=\"Inspect-Data-6\">Inspect Data</a></span></li>\n",
    "    <li><span><a href=\"#Feature-Engineering\" data-toc-modified-id=\"Feature-Engineering-7\">Feature Engineering</a>\n",
    "    <li><span><a href=\"#Initial-Model-Fitting\" data-toc-modified-id=\"Initial-Model-Fitting-8\">Initial Model Fitting</a></span></li>\n",
    "    <li><span><a href=\"#New-Modeling-With-Grouped-Style-Categories\" data-toc-modified-id=\"New-Modeling-With-Grouped-Style-Categories-9\">New Modeling With Grouped Style Categories</a></span></li>\n",
    "    <li><span><a href=\"#Conclusion\" data-toc-modified-id=\"Conclusion-10\">Conclusion</a></span></li>  \n",
    "</span></li>\n",
    "\n",
    "</ul></div>"
   ]
  },
  {
   "cell_type": "markdown",
   "metadata": {},
   "source": [
    "Group Name\n",
    "-----"
   ]
  },
  {
   "cell_type": "markdown",
   "metadata": {},
   "source": [
    "EGG"
   ]
  },
  {
   "cell_type": "markdown",
   "metadata": {},
   "source": [
    "Student Names\n",
    "----"
   ]
  },
  {
   "cell_type": "markdown",
   "metadata": {},
   "source": [
    "1. Andrew <b>E</b>aton \n",
    "2. Lea <b>G</b>enuit\n",
    "3. Jacob <b>G</b>offin"
   ]
  },
  {
   "cell_type": "markdown",
   "metadata": {
    "heading_collapsed": true
   },
   "source": [
    "## Libraries Used\n",
    "-----"
   ]
  },
  {
   "cell_type": "code",
   "execution_count": 1,
   "metadata": {
    "hidden": true
   },
   "outputs": [],
   "source": [
    "import pandas as pd\n",
    "import numpy as np\n",
    "\n",
    "import matplotlib.pyplot as plt\n",
    "from seaborn import heatmap\n",
    "\n",
    "from scipy.stats import uniform\n",
    "\n",
    "from sklearn.model_selection import train_test_split\n",
    "from sklearn import impute\n",
    "from sklearn import compose\n",
    "from sklearn import preprocessing\n",
    "from sklearn.metrics import confusion_matrix\n",
    "from sklearn.metrics import classification_report\n",
    "from sklearn.metrics import make_scorer\n",
    "from sklearn.metrics import f1_score\n",
    "\n",
    "from sklearn.ensemble import RandomForestClassifier\n",
    "from sklearn.pipeline import Pipeline\n",
    "from sklearn.neighbors import KNeighborsClassifier\n",
    "from sklearn.linear_model import LogisticRegression\n",
    "from sklearn.model_selection import RandomizedSearchCV\n",
    "from sklearn.model_selection import StratifiedKFold\n",
    "from sklearn.model_selection import cross_val_score"
   ]
  },
  {
   "cell_type": "markdown",
   "metadata": {
    "heading_collapsed": true
   },
   "source": [
    "## Ingest Data\n",
    "-----"
   ]
  },
  {
   "cell_type": "code",
   "execution_count": 2,
   "metadata": {
    "hidden": true
   },
   "outputs": [],
   "source": [
    "data = pd.read_csv('recipeData.csv', encoding=\"ISO-8859-1\")"
   ]
  },
  {
   "cell_type": "markdown",
   "metadata": {
    "hidden": true
   },
   "source": [
    "<b> Data is from Kaggle, https://www.kaggle.com/jtrofe/beer-recipes/data, scraped from a homebrewing website. We are trying to predict the StyleID/Style classes given the other variables about the brewing process</b>"
   ]
  },
  {
   "cell_type": "code",
   "execution_count": 3,
   "metadata": {
    "hidden": true
   },
   "outputs": [
    {
     "data": {
      "text/html": [
       "<div>\n",
       "<style scoped>\n",
       "    .dataframe tbody tr th:only-of-type {\n",
       "        vertical-align: middle;\n",
       "    }\n",
       "\n",
       "    .dataframe tbody tr th {\n",
       "        vertical-align: top;\n",
       "    }\n",
       "\n",
       "    .dataframe thead th {\n",
       "        text-align: right;\n",
       "    }\n",
       "</style>\n",
       "<table border=\"1\" class=\"dataframe\">\n",
       "  <thead>\n",
       "    <tr style=\"text-align: right;\">\n",
       "      <th></th>\n",
       "      <th>BeerID</th>\n",
       "      <th>Name</th>\n",
       "      <th>URL</th>\n",
       "      <th>Style</th>\n",
       "      <th>StyleID</th>\n",
       "      <th>Size(L)</th>\n",
       "      <th>OG</th>\n",
       "      <th>FG</th>\n",
       "      <th>ABV</th>\n",
       "      <th>IBU</th>\n",
       "      <th>Color</th>\n",
       "      <th>BoilSize</th>\n",
       "      <th>BoilTime</th>\n",
       "      <th>BoilGravity</th>\n",
       "      <th>Efficiency</th>\n",
       "      <th>MashThickness</th>\n",
       "      <th>SugarScale</th>\n",
       "      <th>BrewMethod</th>\n",
       "      <th>PitchRate</th>\n",
       "      <th>PrimaryTemp</th>\n",
       "      <th>PrimingMethod</th>\n",
       "      <th>PrimingAmount</th>\n",
       "      <th>UserId</th>\n",
       "    </tr>\n",
       "  </thead>\n",
       "  <tbody>\n",
       "    <tr>\n",
       "      <td>59259</td>\n",
       "      <td>59260</td>\n",
       "      <td>Pudgy Muck's Celebrated Cocoa Porter</td>\n",
       "      <td>/homebrew/recipe/view/475973/pudgy-muck-s-cele...</td>\n",
       "      <td>American Porter</td>\n",
       "      <td>11</td>\n",
       "      <td>18.93</td>\n",
       "      <td>1.078</td>\n",
       "      <td>1.020</td>\n",
       "      <td>7.65</td>\n",
       "      <td>33.39</td>\n",
       "      <td>44.31</td>\n",
       "      <td>22.71</td>\n",
       "      <td>90</td>\n",
       "      <td>1.065</td>\n",
       "      <td>70.0</td>\n",
       "      <td>1.5</td>\n",
       "      <td>Specific Gravity</td>\n",
       "      <td>All Grain</td>\n",
       "      <td>NaN</td>\n",
       "      <td>20.0</td>\n",
       "      <td>NaN</td>\n",
       "      <td>NaN</td>\n",
       "      <td>79546.0</td>\n",
       "    </tr>\n",
       "    <tr>\n",
       "      <td>37578</td>\n",
       "      <td>37579</td>\n",
       "      <td>August Centennial IPA</td>\n",
       "      <td>/homebrew/recipe/view/267251/august-centennial...</td>\n",
       "      <td>American IPA</td>\n",
       "      <td>7</td>\n",
       "      <td>4.50</td>\n",
       "      <td>1.059</td>\n",
       "      <td>1.016</td>\n",
       "      <td>5.63</td>\n",
       "      <td>61.23</td>\n",
       "      <td>11.37</td>\n",
       "      <td>5.00</td>\n",
       "      <td>60</td>\n",
       "      <td>1.053</td>\n",
       "      <td>60.0</td>\n",
       "      <td>NaN</td>\n",
       "      <td>Specific Gravity</td>\n",
       "      <td>Partial Mash</td>\n",
       "      <td>NaN</td>\n",
       "      <td>18.0</td>\n",
       "      <td>NaN</td>\n",
       "      <td>NaN</td>\n",
       "      <td>49733.0</td>\n",
       "    </tr>\n",
       "    <tr>\n",
       "      <td>1816</td>\n",
       "      <td>1817</td>\n",
       "      <td>Altbier Dusseldorf Harvat</td>\n",
       "      <td>/homebrew/recipe/view/56388/altbier-dusseldorf...</td>\n",
       "      <td>Dusseldorf Altbier</td>\n",
       "      <td>51</td>\n",
       "      <td>20.82</td>\n",
       "      <td>1.051</td>\n",
       "      <td>1.013</td>\n",
       "      <td>5.06</td>\n",
       "      <td>33.48</td>\n",
       "      <td>12.99</td>\n",
       "      <td>28.39</td>\n",
       "      <td>60</td>\n",
       "      <td>NaN</td>\n",
       "      <td>70.0</td>\n",
       "      <td>NaN</td>\n",
       "      <td>Specific Gravity</td>\n",
       "      <td>All Grain</td>\n",
       "      <td>NaN</td>\n",
       "      <td>NaN</td>\n",
       "      <td>NaN</td>\n",
       "      <td>NaN</td>\n",
       "      <td>1109.0</td>\n",
       "    </tr>\n",
       "    <tr>\n",
       "      <td>33247</td>\n",
       "      <td>33248</td>\n",
       "      <td>Big Wave Island Ale - Extract</td>\n",
       "      <td>/homebrew/recipe/view/361401/big-wave-island-a...</td>\n",
       "      <td>Blonde Ale</td>\n",
       "      <td>30</td>\n",
       "      <td>20.82</td>\n",
       "      <td>1.048</td>\n",
       "      <td>1.009</td>\n",
       "      <td>5.11</td>\n",
       "      <td>22.30</td>\n",
       "      <td>5.31</td>\n",
       "      <td>11.36</td>\n",
       "      <td>60</td>\n",
       "      <td>1.088</td>\n",
       "      <td>35.0</td>\n",
       "      <td>NaN</td>\n",
       "      <td>Specific Gravity</td>\n",
       "      <td>extract</td>\n",
       "      <td>NaN</td>\n",
       "      <td>NaN</td>\n",
       "      <td>NaN</td>\n",
       "      <td>NaN</td>\n",
       "      <td>NaN</td>\n",
       "    </tr>\n",
       "    <tr>\n",
       "      <td>31520</td>\n",
       "      <td>31521</td>\n",
       "      <td>Awesome Recipe</td>\n",
       "      <td>/homebrew/recipe/view/209527/awesome-recipe</td>\n",
       "      <td>Sweet Stout</td>\n",
       "      <td>162</td>\n",
       "      <td>20.82</td>\n",
       "      <td>1.065</td>\n",
       "      <td>1.016</td>\n",
       "      <td>6.40</td>\n",
       "      <td>39.97</td>\n",
       "      <td>40.00</td>\n",
       "      <td>28.39</td>\n",
       "      <td>60</td>\n",
       "      <td>1.048</td>\n",
       "      <td>75.0</td>\n",
       "      <td>NaN</td>\n",
       "      <td>Specific Gravity</td>\n",
       "      <td>All Grain</td>\n",
       "      <td>NaN</td>\n",
       "      <td>NaN</td>\n",
       "      <td>NaN</td>\n",
       "      <td>NaN</td>\n",
       "      <td>NaN</td>\n",
       "    </tr>\n",
       "  </tbody>\n",
       "</table>\n",
       "</div>"
      ],
      "text/plain": [
       "       BeerID                                  Name  \\\n",
       "59259   59260  Pudgy Muck's Celebrated Cocoa Porter   \n",
       "37578   37579                 August Centennial IPA   \n",
       "1816     1817             Altbier Dusseldorf Harvat   \n",
       "33247   33248         Big Wave Island Ale - Extract   \n",
       "31520   31521                        Awesome Recipe   \n",
       "\n",
       "                                                     URL               Style  \\\n",
       "59259  /homebrew/recipe/view/475973/pudgy-muck-s-cele...     American Porter   \n",
       "37578  /homebrew/recipe/view/267251/august-centennial...        American IPA   \n",
       "1816   /homebrew/recipe/view/56388/altbier-dusseldorf...  Dusseldorf Altbier   \n",
       "33247  /homebrew/recipe/view/361401/big-wave-island-a...          Blonde Ale   \n",
       "31520        /homebrew/recipe/view/209527/awesome-recipe         Sweet Stout   \n",
       "\n",
       "       StyleID  Size(L)     OG     FG   ABV    IBU  Color  BoilSize  BoilTime  \\\n",
       "59259       11    18.93  1.078  1.020  7.65  33.39  44.31     22.71        90   \n",
       "37578        7     4.50  1.059  1.016  5.63  61.23  11.37      5.00        60   \n",
       "1816        51    20.82  1.051  1.013  5.06  33.48  12.99     28.39        60   \n",
       "33247       30    20.82  1.048  1.009  5.11  22.30   5.31     11.36        60   \n",
       "31520      162    20.82  1.065  1.016  6.40  39.97  40.00     28.39        60   \n",
       "\n",
       "       BoilGravity  Efficiency  MashThickness        SugarScale    BrewMethod  \\\n",
       "59259        1.065        70.0            1.5  Specific Gravity     All Grain   \n",
       "37578        1.053        60.0            NaN  Specific Gravity  Partial Mash   \n",
       "1816           NaN        70.0            NaN  Specific Gravity     All Grain   \n",
       "33247        1.088        35.0            NaN  Specific Gravity       extract   \n",
       "31520        1.048        75.0            NaN  Specific Gravity     All Grain   \n",
       "\n",
       "       PitchRate  PrimaryTemp PrimingMethod PrimingAmount   UserId  \n",
       "59259        NaN         20.0           NaN           NaN  79546.0  \n",
       "37578        NaN         18.0           NaN           NaN  49733.0  \n",
       "1816         NaN          NaN           NaN           NaN   1109.0  \n",
       "33247        NaN          NaN           NaN           NaN      NaN  \n",
       "31520        NaN          NaN           NaN           NaN      NaN  "
      ]
     },
     "execution_count": 3,
     "metadata": {},
     "output_type": "execute_result"
    }
   ],
   "source": [
    "pd.set_option(\"display.max_columns\", None)\n",
    "data.sample(5)"
   ]
  },
  {
   "cell_type": "code",
   "execution_count": 4,
   "metadata": {
    "hidden": true
   },
   "outputs": [],
   "source": [
    "# Remove observations that are not beers\n",
    "beers = data.loc[~data.Style.isin(['Traditional Perry', 'French Cider', 'Pyment (Grape Melomel)',\n",
    "                                   'Apple Wine', 'New England Cider', 'Metheglin', 'Open Category Mead',\n",
    "                                   'Cyser (Apple Melomel)', 'Fruit Cider', 'English Cider', 'Sweet Mead',\n",
    "                                   'Other Specialty Cider or Perry', 'Wheatwine', 'Semi-Sweet Mead',\n",
    "                                   'Other Fruit Melomel', 'Dry Mead', 'Common Cider', 'Braggot'])]\n",
    "beers = beers.loc[~beers.Style.isna()]"
   ]
  },
  {
   "cell_type": "code",
   "execution_count": 5,
   "metadata": {
    "hidden": true,
    "scrolled": true
   },
   "outputs": [
    {
     "name": "stdout",
     "output_type": "stream",
     "text": [
      "Number of classes: 157\n"
     ]
    }
   ],
   "source": [
    "print(f\"Number of classes: {len(set(beers.Style))}\")"
   ]
  },
  {
   "cell_type": "markdown",
   "metadata": {
    "heading_collapsed": true
   },
   "source": [
    "## Inspect Data\n",
    "-----"
   ]
  },
  {
   "cell_type": "code",
   "execution_count": 6,
   "metadata": {
    "hidden": true
   },
   "outputs": [
    {
     "data": {
      "text/html": [
       "<div>\n",
       "<style scoped>\n",
       "    .dataframe tbody tr th:only-of-type {\n",
       "        vertical-align: middle;\n",
       "    }\n",
       "\n",
       "    .dataframe tbody tr th {\n",
       "        vertical-align: top;\n",
       "    }\n",
       "\n",
       "    .dataframe thead th {\n",
       "        text-align: right;\n",
       "    }\n",
       "</style>\n",
       "<table border=\"1\" class=\"dataframe\">\n",
       "  <thead>\n",
       "    <tr style=\"text-align: right;\">\n",
       "      <th></th>\n",
       "      <th>Style</th>\n",
       "      <th>percentage</th>\n",
       "    </tr>\n",
       "  </thead>\n",
       "  <tbody>\n",
       "    <tr>\n",
       "      <td>American IPA</td>\n",
       "      <td>11940</td>\n",
       "      <td>16.434284</td>\n",
       "    </tr>\n",
       "    <tr>\n",
       "      <td>American Pale Ale</td>\n",
       "      <td>7581</td>\n",
       "      <td>10.434531</td>\n",
       "    </tr>\n",
       "    <tr>\n",
       "      <td>Saison</td>\n",
       "      <td>2617</td>\n",
       "      <td>3.602054</td>\n",
       "    </tr>\n",
       "    <tr>\n",
       "      <td>American Light Lager</td>\n",
       "      <td>2277</td>\n",
       "      <td>3.134076</td>\n",
       "    </tr>\n",
       "    <tr>\n",
       "      <td>American Amber Ale</td>\n",
       "      <td>2038</td>\n",
       "      <td>2.805115</td>\n",
       "    </tr>\n",
       "    <tr>\n",
       "      <td>...</td>\n",
       "      <td>...</td>\n",
       "      <td>...</td>\n",
       "    </tr>\n",
       "    <tr>\n",
       "      <td>Piwo Grodziskie</td>\n",
       "      <td>15</td>\n",
       "      <td>0.020646</td>\n",
       "    </tr>\n",
       "    <tr>\n",
       "      <td>Pre-Prohibition Porter</td>\n",
       "      <td>12</td>\n",
       "      <td>0.016517</td>\n",
       "    </tr>\n",
       "    <tr>\n",
       "      <td>Specialty Wood-Aged Beer</td>\n",
       "      <td>11</td>\n",
       "      <td>0.015140</td>\n",
       "    </tr>\n",
       "    <tr>\n",
       "      <td>London Brown Ale</td>\n",
       "      <td>8</td>\n",
       "      <td>0.011011</td>\n",
       "    </tr>\n",
       "    <tr>\n",
       "      <td>Lichtenhainer</td>\n",
       "      <td>6</td>\n",
       "      <td>0.008258</td>\n",
       "    </tr>\n",
       "  </tbody>\n",
       "</table>\n",
       "<p>157 rows × 2 columns</p>\n",
       "</div>"
      ],
      "text/plain": [
       "                          Style  percentage\n",
       "American IPA              11940   16.434284\n",
       "American Pale Ale          7581   10.434531\n",
       "Saison                     2617    3.602054\n",
       "American Light Lager       2277    3.134076\n",
       "American Amber Ale         2038    2.805115\n",
       "...                         ...         ...\n",
       "Piwo Grodziskie              15    0.020646\n",
       "Pre-Prohibition Porter       12    0.016517\n",
       "Specialty Wood-Aged Beer     11    0.015140\n",
       "London Brown Ale              8    0.011011\n",
       "Lichtenhainer                 6    0.008258\n",
       "\n",
       "[157 rows x 2 columns]"
      ]
     },
     "execution_count": 6,
     "metadata": {},
     "output_type": "execute_result"
    }
   ],
   "source": [
    "# Show most common styles\n",
    "df_stylecat = beers.Style.value_counts().to_frame()\n",
    "df_stylecat['percentage'] = df_stylecat.Style * 100 / sum(df_stylecat.Style)\n",
    "df_stylecat"
   ]
  },
  {
   "cell_type": "markdown",
   "metadata": {
    "hidden": true
   },
   "source": [
    "<b> What columns have a high percentage of null values?</b>"
   ]
  },
  {
   "cell_type": "code",
   "execution_count": 7,
   "metadata": {
    "hidden": true
   },
   "outputs": [
    {
     "data": {
      "image/png": "[encoded data removed]",
      "text/plain": [
       "<Figure size 432x288 with 1 Axes>"
      ]
     },
     "metadata": {
      "needs_background": "light"
     },
     "output_type": "display_data"
    }
   ],
   "source": [
    "nulls = (beers.isnull().sum() / beers.shape[0] * 100.00)\n",
    "plt.xlabel('Feature', fontsize=12)\n",
    "plt.ylabel('Percent Null (%)', fontsize=12)\n",
    "plt.title('Percentage of Null Values', fontsize=14)\n",
    "nulls.sort_values(ascending=False).plot(kind='bar')\n",
    "plt.tight_layout()"
   ]
  },
  {
   "cell_type": "markdown",
   "metadata": {
    "hidden": true
   },
   "source": [
    "<b>What categorical columns have high cardinality? </b>"
   ]
  },
  {
   "cell_type": "code",
   "execution_count": 8,
   "metadata": {
    "hidden": true
   },
   "outputs": [
    {
     "data": {
      "image/png": "[encoded data removed]",
      "text/plain": [
       "<Figure size 432x288 with 1 Axes>"
      ]
     },
     "metadata": {
      "needs_background": "light"
     },
     "output_type": "display_data"
    }
   ],
   "source": [
    "categoricals = list(beers.select_dtypes(include=object).columns)\n",
    "categoricals = [x for x in categoricals if x not in ['Name', 'URL']]\n",
    "res = {col: len(beers[col].value_counts()) for col in categoricals}\n",
    "vals = pd.DataFrame.from_dict(list(res.items())).T\n",
    "vals.columns = categoricals\n",
    "vals = vals.iloc[1]\n",
    "plt.xlabel('Feature', fontsize=12)\n",
    "plt.ylabel('Number of Unique Values', fontsize=12)\n",
    "plt.title('Number of Unique Categorical Values', fontsize=14)\n",
    "vals.sort_values(ascending=False).plot(kind='bar')\n",
    "plt.tight_layout()"
   ]
  },
  {
   "cell_type": "markdown",
   "metadata": {
    "hidden": true
   },
   "source": [
    "<b> Note on some variables: </b>  \n",
    "\n",
    "- <b>OG:</b> Specific gravity of wort before fermentation.  \n",
    "- <b>FG:</b> Specific gravity of wort after fermentation.  \n",
    "- <b>ABV:</b> Alcohol By Volume. Some observations have 0 values which we think indicate missing values for this variable. \n",
    "- <b>Size(L):</b> Amount brewed for recipe listed. This variable is not related with the flavor/style of a beer so we decided to drop it .\n",
    "- <b>Color:</b> Standard Reference Method - light to dark (ex. 40 = black).\n",
    "- <b>SG:</b> Specific Gravity is a measure of the relative density of one material compared to another. For brewing, the reference material is water, so the specific gravity of wort or beer is simply the density of the liquid divided by the density of water. As a reference, pure water would have a specific gravity of 1.000.  \n",
    "- <b>IBU:</b> International Bitterness Units is a measure of the beer's bitterness.\n",
    "- <b>Boil size:</b> Fluid at beginning of boil. This variable is not related with the flavor/style of a beer so we decided to drop it .\n",
    "- <b>Boil Time:</b> Time wort is boiled.\n",
    "- <b>Boil Gravity:</b> Specific gravity of wort before the boil.  \n",
    "- <b>Sugar Scale:</b> Scale to determine the concentration of dissolved solids in wort. Only two possible values: 'Specific Gravity' or 'Plato'. This variable is not related with the flavor/style of a beer so we decided to drop it .\n",
    "- <b>Primary Temp:</b> Temperature at the fermenting stage.  \n",
    "- <b>Efficiency:</b> Mash efficiency is a measurement of the percent of available sugars obtained through the mashing process.  \n",
    "- <b>Mash thickness:</b> It's the amount of water per pound of grain.  \n",
    "- <b>Pitch rate:</b> refers to the amount of yeast that is added to cooled wort.  Pitch rate is generally referred to in cells per milliliter.  For home brewers it is difficult to know how much yeast is in the fermenter.\n",
    "- <b>Priming Method:</b> Priming Sugar is any sugar added to a fermented beer with the purpose of starting a secondary re fermentation. So the values for PrimingMethod indicates the type of sugar used. Missing values probably indicates no Priming used."
   ]
  },
  {
   "cell_type": "markdown",
   "metadata": {
    "heading_collapsed": true
   },
   "source": [
    "## Feature Engineering\n",
    "-----"
   ]
  },
  {
   "cell_type": "markdown",
   "metadata": {
    "hidden": true
   },
   "source": [
    "<b> For columns with high % of nulls, create a new column to flag if missing or not </b>"
   ]
  },
  {
   "cell_type": "code",
   "execution_count": 9,
   "metadata": {
    "hidden": true
   },
   "outputs": [],
   "source": [
    "beers['PrimingMethod_missing'] = beers.PrimingMethod.isna().astype('float')\n",
    "beers['MashThickness_missing'] = beers.MashThickness.isna().astype('float')\n",
    "beers['PitchRate_missing'] = beers.PitchRate.isna().astype('float')"
   ]
  },
  {
   "cell_type": "markdown",
   "metadata": {
    "hidden": true
   },
   "source": [
    "<b> The change in specific gravity (from Original to Final) can say something about beer style, according to online literature </b>"
   ]
  },
  {
   "cell_type": "code",
   "execution_count": 10,
   "metadata": {
    "hidden": true
   },
   "outputs": [],
   "source": [
    "beers['Gravity_diff'] = beers.FG - beers.OG"
   ]
  },
  {
   "cell_type": "markdown",
   "metadata": {
    "hidden": true
   },
   "source": [
    "<b> In our pipeline we handle four separate cases of columns:\n",
    "<ol>\n",
    "    <li> Continuous variables with missing values we impute with the median (and scale if flag is set to true, for models like logistic regression & kNN)\n",
    "    <li> Continuous variables that use zero as a placeholder for missing values, we impute zero with the median. And then scale if flag is set to true\n",
    "    <li> Categorical variables are imputed with the most frequent value, and then one-hot-encoded\n",
    "    <li> Boolean variables (is_missing e.g.) are left alone ('passthrough')\n",
    "</ol>    \n",
    "** NOTE: We have imbalanced classes, so we attempted to use SMOTE for minority-class upsampling but it didn't produce a significant effect in any of our models, especially in our final/best model (Random Forest)  \n",
    "</b>"
   ]
  },
  {
   "cell_type": "code",
   "execution_count": 11,
   "metadata": {
    "hidden": true
   },
   "outputs": [],
   "source": [
    "def make_pipeline(classifier=None, scaled=False):\n",
    "    \"\"\"\n",
    "    Create a single pipeline that processes the data and then fits the classifier\n",
    "    \"\"\"\n",
    "\n",
    "    continuous_var = ['MashThickness', 'BoilGravity', 'PrimaryTemp',\n",
    "                      'OG', 'FG', 'IBU', 'Color', 'BoilTime',\n",
    "                      'Efficiency', 'Gravity_diff']\n",
    "    categorical_var = ['BrewMethod']\n",
    "    fill_zeros_var = ['ABV']\n",
    "    boolean_var = ['PrimingMethod_missing',\n",
    "                   'MashThickness_missing', 'PitchRate_missing']\n",
    "\n",
    "    if scaled:\n",
    "        continuous_transformer = Pipeline(steps=[\n",
    "            ('imputer', impute.SimpleImputer(strategy='median')),\n",
    "            ('normalize', preprocessing.StandardScaler())\n",
    "        ])\n",
    "        fill_zeros_transformer = Pipeline(steps=[\n",
    "            ('imputer', impute.SimpleImputer(missing_values=0, strategy='median')),\n",
    "            ('normalize', preprocessing.StandardScaler())\n",
    "        ])\n",
    "    else:\n",
    "        continuous_transformer = Pipeline(steps=[\n",
    "            ('imputer', impute.SimpleImputer(strategy='median'))\n",
    "        ])\n",
    "        fill_zeros_transformer = Pipeline(steps=[\n",
    "            ('imputer', impute.SimpleImputer(missing_values=0, strategy='median'))\n",
    "        ])\n",
    "\n",
    "    categorical_transformer = Pipeline(steps=[\n",
    "        ('imputer', impute.SimpleImputer(strategy='most_frequent')),\n",
    "        ('encoder', preprocessing.OneHotEncoder(handle_unknown='ignore'))\n",
    "    ])\n",
    "\n",
    "    preprocessor = compose.ColumnTransformer(\n",
    "        transformers=[\n",
    "            ('continuous_var', continuous_transformer, continuous_var),\n",
    "            ('categorical_var', categorical_transformer, categorical_var),\n",
    "            ('fill_zeros_var', fill_zeros_transformer, fill_zeros_var),\n",
    "            ('boolean_var', 'passthrough', boolean_var)\n",
    "        ])\n",
    "\n",
    "    pipeline = Pipeline(steps=[('preprocessor', preprocessor),\n",
    "                               ('classifier', classifier)])\n",
    "\n",
    "    return pipeline"
   ]
  },
  {
   "cell_type": "markdown",
   "metadata": {
    "heading_collapsed": true
   },
   "source": [
    "## Initial Model Fitting\n",
    "------"
   ]
  },
  {
   "cell_type": "markdown",
   "metadata": {
    "hidden": true
   },
   "source": [
    "<b> The dataset is imbalanced so we decided to use weighted F1-score as our North Star metric. </b>"
   ]
  },
  {
   "cell_type": "markdown",
   "metadata": {
    "hidden": true
   },
   "source": [
    "<b> Train-Test Split Data, stratifying on y to keep similar balance of classes in train/test (since we have many classes and they are imbalanced)</b>"
   ]
  },
  {
   "cell_type": "code",
   "execution_count": 12,
   "metadata": {
    "hidden": true
   },
   "outputs": [],
   "source": [
    "y = beers['StyleID']\n",
    "X = beers.drop(columns=['Style', 'StyleID'])\n",
    "\n",
    "# Split in train/test sets\n",
    "X_train, X_test, y_train, y_test = train_test_split(X, y, test_size=0.20,\n",
    "                                                    random_state=42, stratify=y)"
   ]
  },
  {
   "cell_type": "markdown",
   "metadata": {
    "hidden": true
   },
   "source": [
    "<b> Try Logistic Regression first </b>"
   ]
  },
  {
   "cell_type": "code",
   "execution_count": 13,
   "metadata": {
    "hidden": true
   },
   "outputs": [],
   "source": [
    "lg_classifier = LogisticRegression(solver='lbfgs', multi_class='auto')"
   ]
  },
  {
   "cell_type": "code",
   "execution_count": 14,
   "metadata": {
    "hidden": true
   },
   "outputs": [],
   "source": [
    "pipeLG = make_pipeline(lg_classifier, scaled=True)"
   ]
  },
  {
   "cell_type": "code",
   "execution_count": 15,
   "metadata": {
    "hidden": true,
    "scrolled": true
   },
   "outputs": [
    {
     "name": "stderr",
     "output_type": "stream",
     "text": [
      "/Users/jacobgoffin/anaconda3/envs/ml/lib/python3.7/site-packages/sklearn/linear_model/logistic.py:947: ConvergenceWarning: lbfgs failed to converge. Increase the number of iterations.\n",
      "  \"of iterations.\", ConvergenceWarning)\n"
     ]
    },
    {
     "data": {
      "text/plain": [
       "Pipeline(memory=None,\n",
       "         steps=[('preprocessor',\n",
       "                 ColumnTransformer(n_jobs=None, remainder='drop',\n",
       "                                   sparse_threshold=0.3,\n",
       "                                   transformer_weights=None,\n",
       "                                   transformers=[('continuous_var',\n",
       "                                                  Pipeline(memory=None,\n",
       "                                                           steps=[('imputer',\n",
       "                                                                   SimpleImputer(add_indicator=False,\n",
       "                                                                                 copy=True,\n",
       "                                                                                 fill_value=None,\n",
       "                                                                                 missing_values=nan,\n",
       "                                                                                 strategy='median',\n",
       "                                                                                 verbose=0)),\n",
       "                                                                  ('normalize',\n",
       "                                                                   StandardScaler(copy=...\n",
       "                                                  ['PrimingMethod_missing',\n",
       "                                                   'MashThickness_missing',\n",
       "                                                   'PitchRate_missing'])],\n",
       "                                   verbose=False)),\n",
       "                ('classifier',\n",
       "                 LogisticRegression(C=1.0, class_weight=None, dual=False,\n",
       "                                    fit_intercept=True, intercept_scaling=1,\n",
       "                                    l1_ratio=None, max_iter=100,\n",
       "                                    multi_class='auto', n_jobs=None,\n",
       "                                    penalty='l2', random_state=None,\n",
       "                                    solver='lbfgs', tol=0.0001, verbose=0,\n",
       "                                    warm_start=False))],\n",
       "         verbose=False)"
      ]
     },
     "execution_count": 15,
     "metadata": {},
     "output_type": "execute_result"
    }
   ],
   "source": [
    "pipeLG.fit(X_train, y_train)"
   ]
  },
  {
   "cell_type": "markdown",
   "metadata": {
    "hidden": true
   },
   "source": [
    "<b> Initial Training Score with Logistic Regression <b>"
   ]
  },
  {
   "cell_type": "code",
   "execution_count": 16,
   "metadata": {
    "hidden": true,
    "scrolled": true
   },
   "outputs": [
    {
     "name": "stdout",
     "output_type": "stream",
     "text": [
      "0.2290 F1-score on train dataset\n"
     ]
    },
    {
     "name": "stderr",
     "output_type": "stream",
     "text": [
      "/Users/jacobgoffin/anaconda3/envs/ml/lib/python3.7/site-packages/sklearn/metrics/classification.py:1437: UndefinedMetricWarning: F-score is ill-defined and being set to 0.0 in labels with no predicted samples.\n",
      "  'precision', 'predicted', average, warn_for)\n"
     ]
    }
   ],
   "source": [
    "y_pred = pipeLG.predict(X_train)\n",
    "f1_train = f1_score(y_train, y_pred, average='weighted')\n",
    "print(f\"{f1_train:.4f} F1-score on train dataset\")"
   ]
  },
  {
   "cell_type": "markdown",
   "metadata": {
    "hidden": true
   },
   "source": [
    "<b> Cross Validation Results with Logistic Regression (Scoring with weighted F1) \n",
    "* Low score but consistent with training score \n",
    "</b>"
   ]
  },
  {
   "cell_type": "code",
   "execution_count": 17,
   "metadata": {
    "hidden": true
   },
   "outputs": [],
   "source": [
    "f1_scorer = make_scorer(f1_score, average='weighted')"
   ]
  },
  {
   "cell_type": "code",
   "execution_count": 18,
   "metadata": {
    "hidden": true
   },
   "outputs": [
    {
     "name": "stdout",
     "output_type": "stream",
     "text": [
      "Cross validation scores:\n"
     ]
    },
    {
     "name": "stderr",
     "output_type": "stream",
     "text": [
      "/Users/jacobgoffin/anaconda3/envs/ml/lib/python3.7/site-packages/sklearn/linear_model/logistic.py:947: ConvergenceWarning: lbfgs failed to converge. Increase the number of iterations.\n",
      "  \"of iterations.\", ConvergenceWarning)\n",
      "/Users/jacobgoffin/anaconda3/envs/ml/lib/python3.7/site-packages/sklearn/metrics/classification.py:1437: UndefinedMetricWarning: F-score is ill-defined and being set to 0.0 in labels with no predicted samples.\n",
      "  'precision', 'predicted', average, warn_for)\n",
      "/Users/jacobgoffin/anaconda3/envs/ml/lib/python3.7/site-packages/sklearn/linear_model/logistic.py:947: ConvergenceWarning: lbfgs failed to converge. Increase the number of iterations.\n",
      "  \"of iterations.\", ConvergenceWarning)\n",
      "/Users/jacobgoffin/anaconda3/envs/ml/lib/python3.7/site-packages/sklearn/metrics/classification.py:1437: UndefinedMetricWarning: F-score is ill-defined and being set to 0.0 in labels with no predicted samples.\n",
      "  'precision', 'predicted', average, warn_for)\n",
      "/Users/jacobgoffin/anaconda3/envs/ml/lib/python3.7/site-packages/sklearn/linear_model/logistic.py:947: ConvergenceWarning: lbfgs failed to converge. Increase the number of iterations.\n",
      "  \"of iterations.\", ConvergenceWarning)\n",
      "/Users/jacobgoffin/anaconda3/envs/ml/lib/python3.7/site-packages/sklearn/metrics/classification.py:1437: UndefinedMetricWarning: F-score is ill-defined and being set to 0.0 in labels with no predicted samples.\n",
      "  'precision', 'predicted', average, warn_for)\n",
      "/Users/jacobgoffin/anaconda3/envs/ml/lib/python3.7/site-packages/sklearn/linear_model/logistic.py:947: ConvergenceWarning: lbfgs failed to converge. Increase the number of iterations.\n",
      "  \"of iterations.\", ConvergenceWarning)\n",
      "/Users/jacobgoffin/anaconda3/envs/ml/lib/python3.7/site-packages/sklearn/metrics/classification.py:1437: UndefinedMetricWarning: F-score is ill-defined and being set to 0.0 in labels with no predicted samples.\n",
      "  'precision', 'predicted', average, warn_for)\n",
      "/Users/jacobgoffin/anaconda3/envs/ml/lib/python3.7/site-packages/sklearn/linear_model/logistic.py:947: ConvergenceWarning: lbfgs failed to converge. Increase the number of iterations.\n",
      "  \"of iterations.\", ConvergenceWarning)\n",
      "/Users/jacobgoffin/anaconda3/envs/ml/lib/python3.7/site-packages/sklearn/metrics/classification.py:1437: UndefinedMetricWarning: F-score is ill-defined and being set to 0.0 in labels with no predicted samples.\n",
      "  'precision', 'predicted', average, warn_for)\n"
     ]
    },
    {
     "data": {
      "text/plain": [
       "array([0.2223507 , 0.22380388, 0.22004858, 0.22426029, 0.22650874])"
      ]
     },
     "execution_count": 18,
     "metadata": {},
     "output_type": "execute_result"
    }
   ],
   "source": [
    "print('Cross validation scores:')\n",
    "k_fold = StratifiedKFold(n_splits=5)\n",
    "cross_val_score(pipeLG,\n",
    "                X_train,\n",
    "                y_train,\n",
    "                scoring=f1_scorer,\n",
    "                cv=k_fold)"
   ]
  },
  {
   "cell_type": "markdown",
   "metadata": {
    "hidden": true
   },
   "source": [
    "<b> Repeat Process with Random Forests </b>"
   ]
  },
  {
   "cell_type": "code",
   "execution_count": 19,
   "metadata": {
    "hidden": true
   },
   "outputs": [],
   "source": [
    "rf_classifier = RandomForestClassifier(n_estimators=150, min_samples_leaf=3)"
   ]
  },
  {
   "cell_type": "code",
   "execution_count": 20,
   "metadata": {
    "hidden": true
   },
   "outputs": [],
   "source": [
    "pipeRF = make_pipeline(rf_classifier, scaled=False)"
   ]
  },
  {
   "cell_type": "code",
   "execution_count": 21,
   "metadata": {
    "hidden": true,
    "scrolled": true
   },
   "outputs": [
    {
     "data": {
      "text/plain": [
       "Pipeline(memory=None,\n",
       "         steps=[('preprocessor',\n",
       "                 ColumnTransformer(n_jobs=None, remainder='drop',\n",
       "                                   sparse_threshold=0.3,\n",
       "                                   transformer_weights=None,\n",
       "                                   transformers=[('continuous_var',\n",
       "                                                  Pipeline(memory=None,\n",
       "                                                           steps=[('imputer',\n",
       "                                                                   SimpleImputer(add_indicator=False,\n",
       "                                                                                 copy=True,\n",
       "                                                                                 fill_value=None,\n",
       "                                                                                 missing_values=nan,\n",
       "                                                                                 strategy='median',\n",
       "                                                                                 verbose=0))],\n",
       "                                                           verbose=False),\n",
       "                                                  ['MashThickness',...\n",
       "                 RandomForestClassifier(bootstrap=True, class_weight=None,\n",
       "                                        criterion='gini', max_depth=None,\n",
       "                                        max_features='auto',\n",
       "                                        max_leaf_nodes=None,\n",
       "                                        min_impurity_decrease=0.0,\n",
       "                                        min_impurity_split=None,\n",
       "                                        min_samples_leaf=3, min_samples_split=2,\n",
       "                                        min_weight_fraction_leaf=0.0,\n",
       "                                        n_estimators=150, n_jobs=None,\n",
       "                                        oob_score=False, random_state=None,\n",
       "                                        verbose=0, warm_start=False))],\n",
       "         verbose=False)"
      ]
     },
     "execution_count": 21,
     "metadata": {},
     "output_type": "execute_result"
    }
   ],
   "source": [
    "pipeRF.fit(X_train, y_train)"
   ]
  },
  {
   "cell_type": "markdown",
   "metadata": {
    "hidden": true
   },
   "source": [
    "<b> Initial Training Score with Random Forests <b>"
   ]
  },
  {
   "cell_type": "code",
   "execution_count": 22,
   "metadata": {
    "hidden": true,
    "scrolled": true
   },
   "outputs": [
    {
     "name": "stdout",
     "output_type": "stream",
     "text": [
      "0.8542 F1-score on train dataset\n"
     ]
    }
   ],
   "source": [
    "y_pred = pipeRF.predict(X_train)\n",
    "f1_train = f1_score(y_train, y_pred, average='weighted')\n",
    "print(f\"{f1_train:.4f} F1-score on train dataset\")"
   ]
  },
  {
   "cell_type": "markdown",
   "metadata": {
    "hidden": true
   },
   "source": [
    "<b> Cross Validation Results with Random Forests (Scoring with weighted F1) \n",
    "* Much lower validation scores than in training (overfitting?)\n",
    "</b>"
   ]
  },
  {
   "cell_type": "code",
   "execution_count": 23,
   "metadata": {
    "hidden": true
   },
   "outputs": [
    {
     "name": "stdout",
     "output_type": "stream",
     "text": [
      "Cross validation scores:\n"
     ]
    },
    {
     "name": "stderr",
     "output_type": "stream",
     "text": [
      "/Users/jacobgoffin/anaconda3/envs/ml/lib/python3.7/site-packages/sklearn/metrics/classification.py:1437: UndefinedMetricWarning: F-score is ill-defined and being set to 0.0 in labels with no predicted samples.\n",
      "  'precision', 'predicted', average, warn_for)\n",
      "/Users/jacobgoffin/anaconda3/envs/ml/lib/python3.7/site-packages/sklearn/metrics/classification.py:1437: UndefinedMetricWarning: F-score is ill-defined and being set to 0.0 in labels with no predicted samples.\n",
      "  'precision', 'predicted', average, warn_for)\n",
      "/Users/jacobgoffin/anaconda3/envs/ml/lib/python3.7/site-packages/sklearn/metrics/classification.py:1437: UndefinedMetricWarning: F-score is ill-defined and being set to 0.0 in labels with no predicted samples.\n",
      "  'precision', 'predicted', average, warn_for)\n",
      "/Users/jacobgoffin/anaconda3/envs/ml/lib/python3.7/site-packages/sklearn/metrics/classification.py:1437: UndefinedMetricWarning: F-score is ill-defined and being set to 0.0 in labels with no predicted samples.\n",
      "  'precision', 'predicted', average, warn_for)\n",
      "/Users/jacobgoffin/anaconda3/envs/ml/lib/python3.7/site-packages/sklearn/metrics/classification.py:1437: UndefinedMetricWarning: F-score is ill-defined and being set to 0.0 in labels with no predicted samples.\n",
      "  'precision', 'predicted', average, warn_for)\n"
     ]
    },
    {
     "data": {
      "text/plain": [
       "array([0.32308928, 0.33034235, 0.32856854, 0.32441326, 0.3288107 ])"
      ]
     },
     "execution_count": 23,
     "metadata": {},
     "output_type": "execute_result"
    }
   ],
   "source": [
    "print('Cross validation scores:')\n",
    "k_fold = StratifiedKFold(n_splits=5)\n",
    "cross_val_score(pipeRF,\n",
    "                X_train,\n",
    "                y_train,\n",
    "                scoring=f1_scorer,\n",
    "                cv=k_fold)"
   ]
  },
  {
   "cell_type": "markdown",
   "metadata": {
    "hidden": true
   },
   "source": [
    "<b> Conclusion:</b> With 157 styles of beer to predict, no model was able to get above an f1 score of ~0.35. Therefore we started to think of ways to categorize our beer styles into broader groupings. Luckily we found that there is an official organization, the Beer Judge Certification Program (BJCP), that already does this, classifying beer styles into 34 groups. In the next section we will re-frame our problem to these new style categories and fit new models"
   ]
  },
  {
   "cell_type": "markdown",
   "metadata": {
    "heading_collapsed": true
   },
   "source": [
    "## New Modeling With Grouped Style Categories\n",
    "-----"
   ]
  },
  {
   "cell_type": "code",
   "execution_count": 24,
   "metadata": {
    "hidden": true
   },
   "outputs": [],
   "source": [
    "# Read in Beer Judge Certification Program (BJCP) Mappings, in order to map 157 styles down to 34 \"grouped\" styles\n",
    "# https://www.bjcp.org/docs/2015_Guidelines_Beer.pdf\n",
    "bjcp = pd.read_csv('beerMapping.csv')"
   ]
  },
  {
   "cell_type": "code",
   "execution_count": 25,
   "metadata": {
    "hidden": true
   },
   "outputs": [],
   "source": [
    "mapping = {row['StyleID']: row['BJCP Mapping'] for i, row in bjcp.iterrows()}"
   ]
  },
  {
   "cell_type": "code",
   "execution_count": 26,
   "metadata": {
    "hidden": true
   },
   "outputs": [],
   "source": [
    "beers['StyleCategory'] = beers['StyleID'].map(mapping)"
   ]
  },
  {
   "cell_type": "code",
   "execution_count": 27,
   "metadata": {
    "hidden": true
   },
   "outputs": [],
   "source": [
    "beers = beers.loc[~beers['StyleCategory'].isna()]"
   ]
  },
  {
   "cell_type": "code",
   "execution_count": 28,
   "metadata": {
    "hidden": true
   },
   "outputs": [
    {
     "name": "stdout",
     "output_type": "stream",
     "text": [
      "Number of classes: 34\n"
     ]
    }
   ],
   "source": [
    "print(f\"Number of classes: {len(set(beers['StyleCategory']))}\")"
   ]
  },
  {
   "cell_type": "code",
   "execution_count": 29,
   "metadata": {
    "hidden": true,
    "scrolled": true
   },
   "outputs": [
    {
     "data": {
      "text/html": [
       "<div>\n",
       "<style scoped>\n",
       "    .dataframe tbody tr th:only-of-type {\n",
       "        vertical-align: middle;\n",
       "    }\n",
       "\n",
       "    .dataframe tbody tr th {\n",
       "        vertical-align: top;\n",
       "    }\n",
       "\n",
       "    .dataframe thead th {\n",
       "        text-align: right;\n",
       "    }\n",
       "</style>\n",
       "<table border=\"1\" class=\"dataframe\">\n",
       "  <thead>\n",
       "    <tr style=\"text-align: right;\">\n",
       "      <th></th>\n",
       "      <th>StyleCategory</th>\n",
       "      <th>percentage</th>\n",
       "    </tr>\n",
       "  </thead>\n",
       "  <tbody>\n",
       "    <tr>\n",
       "      <td>IPA</td>\n",
       "      <td>15416</td>\n",
       "      <td>22.252053</td>\n",
       "    </tr>\n",
       "    <tr>\n",
       "      <td>PALE AMERICAN ALE</td>\n",
       "      <td>9334</td>\n",
       "      <td>13.473058</td>\n",
       "    </tr>\n",
       "    <tr>\n",
       "      <td>AMBER AND BROWN AMERICAN BEER</td>\n",
       "      <td>4389</td>\n",
       "      <td>6.335253</td>\n",
       "    </tr>\n",
       "    <tr>\n",
       "      <td>STANDARD AMERICAN BEER</td>\n",
       "      <td>4207</td>\n",
       "      <td>6.072547</td>\n",
       "    </tr>\n",
       "    <tr>\n",
       "      <td>AMERICAN PORTER AND STOUT</td>\n",
       "      <td>3627</td>\n",
       "      <td>5.235353</td>\n",
       "    </tr>\n",
       "    <tr>\n",
       "      <td>STRONG BELGIAN ALE</td>\n",
       "      <td>3467</td>\n",
       "      <td>5.004402</td>\n",
       "    </tr>\n",
       "    <tr>\n",
       "      <td>GERMAN WHEAT BEER</td>\n",
       "      <td>2508</td>\n",
       "      <td>3.620145</td>\n",
       "    </tr>\n",
       "    <tr>\n",
       "      <td>BRITISH BITTER</td>\n",
       "      <td>2481</td>\n",
       "      <td>3.581172</td>\n",
       "    </tr>\n",
       "    <tr>\n",
       "      <td>DARK BRITISH BEER</td>\n",
       "      <td>2271</td>\n",
       "      <td>3.278050</td>\n",
       "    </tr>\n",
       "    <tr>\n",
       "      <td>PALE BITTER EUROPEAN BEER</td>\n",
       "      <td>1931</td>\n",
       "      <td>2.787280</td>\n",
       "    </tr>\n",
       "    <tr>\n",
       "      <td>BELGIAN ALE</td>\n",
       "      <td>1878</td>\n",
       "      <td>2.710778</td>\n",
       "    </tr>\n",
       "    <tr>\n",
       "      <td>TRAPPIST ALE</td>\n",
       "      <td>1754</td>\n",
       "      <td>2.531792</td>\n",
       "    </tr>\n",
       "    <tr>\n",
       "      <td>SPECIALTY BEER</td>\n",
       "      <td>1566</td>\n",
       "      <td>2.260425</td>\n",
       "    </tr>\n",
       "    <tr>\n",
       "      <td>IRISH BEER</td>\n",
       "      <td>1531</td>\n",
       "      <td>2.209905</td>\n",
       "    </tr>\n",
       "    <tr>\n",
       "      <td>STRONG AMERICAN ALE</td>\n",
       "      <td>1432</td>\n",
       "      <td>2.067004</td>\n",
       "    </tr>\n",
       "    <tr>\n",
       "      <td>PALE COMMONWEALTH BEER</td>\n",
       "      <td>1104</td>\n",
       "      <td>1.593556</td>\n",
       "    </tr>\n",
       "    <tr>\n",
       "      <td>SPICED BEER</td>\n",
       "      <td>1077</td>\n",
       "      <td>1.554584</td>\n",
       "    </tr>\n",
       "    <tr>\n",
       "      <td>STRONG BRITISH ALE</td>\n",
       "      <td>893</td>\n",
       "      <td>1.288991</td>\n",
       "    </tr>\n",
       "    <tr>\n",
       "      <td>EUROPEAN SOUR ALE</td>\n",
       "      <td>889</td>\n",
       "      <td>1.283217</td>\n",
       "    </tr>\n",
       "    <tr>\n",
       "      <td>BROWN BRITISH BEER</td>\n",
       "      <td>852</td>\n",
       "      <td>1.229810</td>\n",
       "    </tr>\n",
       "    <tr>\n",
       "      <td>AMBER MALTY EUROPEAN LAGER</td>\n",
       "      <td>786</td>\n",
       "      <td>1.134543</td>\n",
       "    </tr>\n",
       "    <tr>\n",
       "      <td>ALTERNATIVE FERMENTABLES BEER</td>\n",
       "      <td>628</td>\n",
       "      <td>0.906480</td>\n",
       "    </tr>\n",
       "    <tr>\n",
       "      <td>PALE MALTY EUROPEAN LAGER</td>\n",
       "      <td>616</td>\n",
       "      <td>0.889158</td>\n",
       "    </tr>\n",
       "    <tr>\n",
       "      <td>STRONG EUROPEAN BEER</td>\n",
       "      <td>602</td>\n",
       "      <td>0.868950</td>\n",
       "    </tr>\n",
       "    <tr>\n",
       "      <td>FRUIT BEER</td>\n",
       "      <td>589</td>\n",
       "      <td>0.850185</td>\n",
       "    </tr>\n",
       "    <tr>\n",
       "      <td>AMBER BITTER EUROPEAN BEER</td>\n",
       "      <td>567</td>\n",
       "      <td>0.818430</td>\n",
       "    </tr>\n",
       "    <tr>\n",
       "      <td>SCOTTISH ALE</td>\n",
       "      <td>507</td>\n",
       "      <td>0.731823</td>\n",
       "    </tr>\n",
       "    <tr>\n",
       "      <td>DARK EUROPEAN LAGER</td>\n",
       "      <td>475</td>\n",
       "      <td>0.685633</td>\n",
       "    </tr>\n",
       "    <tr>\n",
       "      <td>CZECH LAGER</td>\n",
       "      <td>471</td>\n",
       "      <td>0.679860</td>\n",
       "    </tr>\n",
       "    <tr>\n",
       "      <td>INTERNATIONAL LAGER</td>\n",
       "      <td>433</td>\n",
       "      <td>0.625009</td>\n",
       "    </tr>\n",
       "    <tr>\n",
       "      <td>HISTORICAL BEER</td>\n",
       "      <td>398</td>\n",
       "      <td>0.574489</td>\n",
       "    </tr>\n",
       "    <tr>\n",
       "      <td>AMERICAN WILD ALE</td>\n",
       "      <td>265</td>\n",
       "      <td>0.382511</td>\n",
       "    </tr>\n",
       "    <tr>\n",
       "      <td>SMOKED BEER</td>\n",
       "      <td>257</td>\n",
       "      <td>0.370964</td>\n",
       "    </tr>\n",
       "    <tr>\n",
       "      <td>WOOD BEER</td>\n",
       "      <td>78</td>\n",
       "      <td>0.112588</td>\n",
       "    </tr>\n",
       "  </tbody>\n",
       "</table>\n",
       "</div>"
      ],
      "text/plain": [
       "                               StyleCategory  percentage\n",
       "IPA                                    15416   22.252053\n",
       "PALE AMERICAN ALE                       9334   13.473058\n",
       "AMBER AND BROWN AMERICAN BEER           4389    6.335253\n",
       "STANDARD AMERICAN BEER                  4207    6.072547\n",
       "AMERICAN PORTER AND STOUT               3627    5.235353\n",
       "STRONG BELGIAN ALE                      3467    5.004402\n",
       "GERMAN WHEAT BEER                       2508    3.620145\n",
       "BRITISH BITTER                          2481    3.581172\n",
       "DARK BRITISH BEER                       2271    3.278050\n",
       "PALE BITTER EUROPEAN BEER               1931    2.787280\n",
       "BELGIAN ALE                             1878    2.710778\n",
       "TRAPPIST ALE                            1754    2.531792\n",
       "SPECIALTY BEER                          1566    2.260425\n",
       "IRISH BEER                              1531    2.209905\n",
       "STRONG AMERICAN ALE                     1432    2.067004\n",
       "PALE COMMONWEALTH BEER                  1104    1.593556\n",
       "SPICED BEER                             1077    1.554584\n",
       "STRONG BRITISH ALE                       893    1.288991\n",
       "EUROPEAN SOUR ALE                        889    1.283217\n",
       "BROWN BRITISH BEER                       852    1.229810\n",
       "AMBER MALTY EUROPEAN LAGER               786    1.134543\n",
       "ALTERNATIVE FERMENTABLES BEER            628    0.906480\n",
       "PALE MALTY EUROPEAN LAGER                616    0.889158\n",
       "STRONG EUROPEAN BEER                     602    0.868950\n",
       "FRUIT BEER                               589    0.850185\n",
       "AMBER BITTER EUROPEAN BEER               567    0.818430\n",
       "SCOTTISH ALE                             507    0.731823\n",
       "DARK EUROPEAN LAGER                      475    0.685633\n",
       "CZECH LAGER                              471    0.679860\n",
       "INTERNATIONAL LAGER                      433    0.625009\n",
       "HISTORICAL BEER                          398    0.574489\n",
       "AMERICAN WILD ALE                        265    0.382511\n",
       "SMOKED BEER                              257    0.370964\n",
       "WOOD BEER                                 78    0.112588"
      ]
     },
     "execution_count": 29,
     "metadata": {},
     "output_type": "execute_result"
    }
   ],
   "source": [
    "# Show most common styles\n",
    "df_stylecat = beers.StyleCategory.value_counts().to_frame()\n",
    "df_stylecat['percentage'] = df_stylecat.StyleCategory * 100 / sum(df_stylecat.StyleCategory)\n",
    "df_stylecat"
   ]
  },
  {
   "cell_type": "markdown",
   "metadata": {
    "hidden": true
   },
   "source": [
    "<b> Train-Test Split Data, stratifying on y to keep similar balance of classes in train/test (since we have many classes and they are imbalanced)</b>"
   ]
  },
  {
   "cell_type": "code",
   "execution_count": 30,
   "metadata": {
    "hidden": true
   },
   "outputs": [],
   "source": [
    "y = beers['StyleCategory']\n",
    "X = beers.drop(columns=['Style', 'StyleID', 'StyleCategory'])\n",
    "\n",
    "# Split in train/test sets\n",
    "X_train, X_test, y_train, y_test = train_test_split(X, y, test_size=0.20,\n",
    "                                                    random_state=42, stratify=y)"
   ]
  },
  {
   "cell_type": "markdown",
   "metadata": {
    "hidden": true
   },
   "source": [
    "### Create baseline with Logistic Regression (including hyperparameter tuning via randomized-search)"
   ]
  },
  {
   "cell_type": "code",
   "execution_count": 31,
   "metadata": {
    "hidden": true
   },
   "outputs": [],
   "source": [
    "# Common hyperparameters shared across all models\n",
    "n_iter = 10\n",
    "cv = 3\n",
    "\n",
    "# Logistic regression specific hyperparameters\n",
    "pipeLG = make_pipeline(LogisticRegression(solver=\"saga\", multi_class=\"auto\", verbose=1),\n",
    "                       scaled=True)\n",
    "lr_params = {\n",
    "    \"classifier__penalty\": [\"l1\", \"l2\", 'none'],\n",
    "    \"classifier__C\": uniform(loc=0, scale=4),\n",
    "}\n",
    "\n",
    "lg_random_cv = RandomizedSearchCV(pipeLG, lr_params, n_iter=n_iter, cv=cv,\n",
    "                                  scoring='f1_weighted', n_jobs=-1)"
   ]
  },
  {
   "cell_type": "code",
   "execution_count": 32,
   "metadata": {
    "hidden": true,
    "scrolled": true
   },
   "outputs": [
    {
     "name": "stderr",
     "output_type": "stream",
     "text": [
      "/Users/jacobgoffin/anaconda3/envs/ml/lib/python3.7/site-packages/sklearn/linear_model/logistic.py:1510: UserWarning: Setting penalty='none' will ignore the C and l1_ratio parameters\n",
      "  \"Setting penalty='none' will ignore the C and l1_ratio \"\n",
      "[Parallel(n_jobs=1)]: Using backend SequentialBackend with 1 concurrent workers.\n"
     ]
    },
    {
     "name": "stdout",
     "output_type": "stream",
     "text": [
      "max_iter reached after 21 seconds\n"
     ]
    },
    {
     "name": "stderr",
     "output_type": "stream",
     "text": [
      "/Users/jacobgoffin/anaconda3/envs/ml/lib/python3.7/site-packages/sklearn/linear_model/sag.py:337: ConvergenceWarning: The max_iter was reached which means the coef_ did not converge\n",
      "  \"the coef_ did not converge\", ConvergenceWarning)\n",
      "[Parallel(n_jobs=1)]: Done   1 out of   1 | elapsed:   21.1s finished\n"
     ]
    },
    {
     "data": {
      "text/plain": [
       "RandomizedSearchCV(cv=3, error_score='raise-deprecating',\n",
       "                   estimator=Pipeline(memory=None,\n",
       "                                      steps=[('preprocessor',\n",
       "                                              ColumnTransformer(n_jobs=None,\n",
       "                                                                remainder='drop',\n",
       "                                                                sparse_threshold=0.3,\n",
       "                                                                transformer_weights=None,\n",
       "                                                                transformers=[('continuous_var',\n",
       "                                                                               Pipeline(memory=None,\n",
       "                                                                                        steps=[('imputer',\n",
       "                                                                                                SimpleImputer(add_indicator=False,\n",
       "                                                                                                              copy=True,\n",
       "                                                                                                              fill_value=None,\n",
       "                                                                                                              missing_values=n...\n",
       "                                                                 solver='saga',\n",
       "                                                                 tol=0.0001,\n",
       "                                                                 verbose=1,\n",
       "                                                                 warm_start=False))],\n",
       "                                      verbose=False),\n",
       "                   iid='warn', n_iter=10, n_jobs=-1,\n",
       "                   param_distributions={'classifier__C': <scipy.stats._distn_infrastructure.rv_frozen object at 0x1a21b9f150>,\n",
       "                                        'classifier__penalty': ['l1', 'l2',\n",
       "                                                                'none']},\n",
       "                   pre_dispatch='2*n_jobs', random_state=None, refit=True,\n",
       "                   return_train_score=False, scoring='f1_weighted', verbose=0)"
      ]
     },
     "execution_count": 32,
     "metadata": {},
     "output_type": "execute_result"
    }
   ],
   "source": [
    "lg_random_cv.fit(X_train, y_train)"
   ]
  },
  {
   "cell_type": "markdown",
   "metadata": {
    "hidden": true
   },
   "source": [
    "<b> Look at CV results in data frame\n",
    "* Best classifier was one with no penalty. However, all random search models created extremely similar cv scores (weighted f1 around ~0.34)\n",
    "</b>"
   ]
  },
  {
   "cell_type": "code",
   "execution_count": 33,
   "metadata": {
    "hidden": true,
    "scrolled": true
   },
   "outputs": [
    {
     "data": {
      "text/html": [
       "<div>\n",
       "<style scoped>\n",
       "    .dataframe tbody tr th:only-of-type {\n",
       "        vertical-align: middle;\n",
       "    }\n",
       "\n",
       "    .dataframe tbody tr th {\n",
       "        vertical-align: top;\n",
       "    }\n",
       "\n",
       "    .dataframe thead th {\n",
       "        text-align: right;\n",
       "    }\n",
       "</style>\n",
       "<table border=\"1\" class=\"dataframe\">\n",
       "  <thead>\n",
       "    <tr style=\"text-align: right;\">\n",
       "      <th></th>\n",
       "      <th>mean_fit_time</th>\n",
       "      <th>std_fit_time</th>\n",
       "      <th>mean_score_time</th>\n",
       "      <th>std_score_time</th>\n",
       "      <th>param_classifier__C</th>\n",
       "      <th>param_classifier__penalty</th>\n",
       "      <th>params</th>\n",
       "      <th>split0_test_score</th>\n",
       "      <th>split1_test_score</th>\n",
       "      <th>split2_test_score</th>\n",
       "      <th>mean_test_score</th>\n",
       "      <th>std_test_score</th>\n",
       "      <th>rank_test_score</th>\n",
       "    </tr>\n",
       "  </thead>\n",
       "  <tbody>\n",
       "    <tr>\n",
       "      <td>3</td>\n",
       "      <td>23.014570</td>\n",
       "      <td>0.108901</td>\n",
       "      <td>0.214209</td>\n",
       "      <td>0.032207</td>\n",
       "      <td>3.32107</td>\n",
       "      <td>none</td>\n",
       "      <td>{'classifier__C': 3.321067365447479, 'classifi...</td>\n",
       "      <td>0.333729</td>\n",
       "      <td>0.335327</td>\n",
       "      <td>0.343227</td>\n",
       "      <td>0.337426</td>\n",
       "      <td>0.004152</td>\n",
       "      <td>1</td>\n",
       "    </tr>\n",
       "    <tr>\n",
       "      <td>2</td>\n",
       "      <td>21.343470</td>\n",
       "      <td>0.413835</td>\n",
       "      <td>0.200445</td>\n",
       "      <td>0.012368</td>\n",
       "      <td>3.62196</td>\n",
       "      <td>none</td>\n",
       "      <td>{'classifier__C': 3.6219555370629126, 'classif...</td>\n",
       "      <td>0.333633</td>\n",
       "      <td>0.335276</td>\n",
       "      <td>0.343227</td>\n",
       "      <td>0.337376</td>\n",
       "      <td>0.004189</td>\n",
       "      <td>2</td>\n",
       "    </tr>\n",
       "    <tr>\n",
       "      <td>7</td>\n",
       "      <td>24.398589</td>\n",
       "      <td>3.421657</td>\n",
       "      <td>0.289431</td>\n",
       "      <td>0.093290</td>\n",
       "      <td>3.71034</td>\n",
       "      <td>l2</td>\n",
       "      <td>{'classifier__C': 3.7103402807586403, 'classif...</td>\n",
       "      <td>0.333752</td>\n",
       "      <td>0.335168</td>\n",
       "      <td>0.342960</td>\n",
       "      <td>0.337291</td>\n",
       "      <td>0.004048</td>\n",
       "      <td>3</td>\n",
       "    </tr>\n",
       "    <tr>\n",
       "      <td>5</td>\n",
       "      <td>30.769929</td>\n",
       "      <td>0.380795</td>\n",
       "      <td>0.186693</td>\n",
       "      <td>0.002291</td>\n",
       "      <td>1.91273</td>\n",
       "      <td>l1</td>\n",
       "      <td>{'classifier__C': 1.9127340836055788, 'classif...</td>\n",
       "      <td>0.333455</td>\n",
       "      <td>0.335259</td>\n",
       "      <td>0.343075</td>\n",
       "      <td>0.337261</td>\n",
       "      <td>0.004175</td>\n",
       "      <td>4</td>\n",
       "    </tr>\n",
       "    <tr>\n",
       "      <td>4</td>\n",
       "      <td>31.498657</td>\n",
       "      <td>0.656994</td>\n",
       "      <td>0.186722</td>\n",
       "      <td>0.005629</td>\n",
       "      <td>3.08529</td>\n",
       "      <td>l1</td>\n",
       "      <td>{'classifier__C': 3.085285606041787, 'classifi...</td>\n",
       "      <td>0.333437</td>\n",
       "      <td>0.335213</td>\n",
       "      <td>0.343123</td>\n",
       "      <td>0.337255</td>\n",
       "      <td>0.004210</td>\n",
       "      <td>5</td>\n",
       "    </tr>\n",
       "    <tr>\n",
       "      <td>8</td>\n",
       "      <td>39.217403</td>\n",
       "      <td>0.046119</td>\n",
       "      <td>0.208773</td>\n",
       "      <td>0.008741</td>\n",
       "      <td>2.74787</td>\n",
       "      <td>l2</td>\n",
       "      <td>{'classifier__C': 2.74786646190407, 'classifie...</td>\n",
       "      <td>0.333494</td>\n",
       "      <td>0.335126</td>\n",
       "      <td>0.343037</td>\n",
       "      <td>0.337217</td>\n",
       "      <td>0.004167</td>\n",
       "      <td>6</td>\n",
       "    </tr>\n",
       "    <tr>\n",
       "      <td>6</td>\n",
       "      <td>21.466534</td>\n",
       "      <td>0.314030</td>\n",
       "      <td>0.206249</td>\n",
       "      <td>0.025504</td>\n",
       "      <td>2.19385</td>\n",
       "      <td>l2</td>\n",
       "      <td>{'classifier__C': 2.1938521051298783, 'classif...</td>\n",
       "      <td>0.333441</td>\n",
       "      <td>0.335174</td>\n",
       "      <td>0.342980</td>\n",
       "      <td>0.337196</td>\n",
       "      <td>0.004149</td>\n",
       "      <td>7</td>\n",
       "    </tr>\n",
       "    <tr>\n",
       "      <td>1</td>\n",
       "      <td>21.837265</td>\n",
       "      <td>1.034821</td>\n",
       "      <td>0.186975</td>\n",
       "      <td>0.002920</td>\n",
       "      <td>0.827994</td>\n",
       "      <td>l2</td>\n",
       "      <td>{'classifier__C': 0.8279944931735033, 'classif...</td>\n",
       "      <td>0.333303</td>\n",
       "      <td>0.334590</td>\n",
       "      <td>0.342911</td>\n",
       "      <td>0.336932</td>\n",
       "      <td>0.004258</td>\n",
       "      <td>8</td>\n",
       "    </tr>\n",
       "    <tr>\n",
       "      <td>0</td>\n",
       "      <td>32.051090</td>\n",
       "      <td>0.326300</td>\n",
       "      <td>0.188804</td>\n",
       "      <td>0.005384</td>\n",
       "      <td>0.54252</td>\n",
       "      <td>l1</td>\n",
       "      <td>{'classifier__C': 0.5425199664155773, 'classif...</td>\n",
       "      <td>0.332846</td>\n",
       "      <td>0.334910</td>\n",
       "      <td>0.342231</td>\n",
       "      <td>0.336660</td>\n",
       "      <td>0.004026</td>\n",
       "      <td>9</td>\n",
       "    </tr>\n",
       "    <tr>\n",
       "      <td>9</td>\n",
       "      <td>36.280991</td>\n",
       "      <td>6.243813</td>\n",
       "      <td>0.167517</td>\n",
       "      <td>0.020496</td>\n",
       "      <td>0.418828</td>\n",
       "      <td>l1</td>\n",
       "      <td>{'classifier__C': 0.4188284317116162, 'classif...</td>\n",
       "      <td>0.332466</td>\n",
       "      <td>0.334304</td>\n",
       "      <td>0.341992</td>\n",
       "      <td>0.336252</td>\n",
       "      <td>0.004126</td>\n",
       "      <td>10</td>\n",
       "    </tr>\n",
       "  </tbody>\n",
       "</table>\n",
       "</div>"
      ],
      "text/plain": [
       "   mean_fit_time  std_fit_time  mean_score_time  std_score_time  \\\n",
       "3      23.014570      0.108901         0.214209        0.032207   \n",
       "2      21.343470      0.413835         0.200445        0.012368   \n",
       "7      24.398589      3.421657         0.289431        0.093290   \n",
       "5      30.769929      0.380795         0.186693        0.002291   \n",
       "4      31.498657      0.656994         0.186722        0.005629   \n",
       "8      39.217403      0.046119         0.208773        0.008741   \n",
       "6      21.466534      0.314030         0.206249        0.025504   \n",
       "1      21.837265      1.034821         0.186975        0.002920   \n",
       "0      32.051090      0.326300         0.188804        0.005384   \n",
       "9      36.280991      6.243813         0.167517        0.020496   \n",
       "\n",
       "  param_classifier__C param_classifier__penalty  \\\n",
       "3             3.32107                      none   \n",
       "2             3.62196                      none   \n",
       "7             3.71034                        l2   \n",
       "5             1.91273                        l1   \n",
       "4             3.08529                        l1   \n",
       "8             2.74787                        l2   \n",
       "6             2.19385                        l2   \n",
       "1            0.827994                        l2   \n",
       "0             0.54252                        l1   \n",
       "9            0.418828                        l1   \n",
       "\n",
       "                                              params  split0_test_score  \\\n",
       "3  {'classifier__C': 3.321067365447479, 'classifi...           0.333729   \n",
       "2  {'classifier__C': 3.6219555370629126, 'classif...           0.333633   \n",
       "7  {'classifier__C': 3.7103402807586403, 'classif...           0.333752   \n",
       "5  {'classifier__C': 1.9127340836055788, 'classif...           0.333455   \n",
       "4  {'classifier__C': 3.085285606041787, 'classifi...           0.333437   \n",
       "8  {'classifier__C': 2.74786646190407, 'classifie...           0.333494   \n",
       "6  {'classifier__C': 2.1938521051298783, 'classif...           0.333441   \n",
       "1  {'classifier__C': 0.8279944931735033, 'classif...           0.333303   \n",
       "0  {'classifier__C': 0.5425199664155773, 'classif...           0.332846   \n",
       "9  {'classifier__C': 0.4188284317116162, 'classif...           0.332466   \n",
       "\n",
       "   split1_test_score  split2_test_score  mean_test_score  std_test_score  \\\n",
       "3           0.335327           0.343227         0.337426        0.004152   \n",
       "2           0.335276           0.343227         0.337376        0.004189   \n",
       "7           0.335168           0.342960         0.337291        0.004048   \n",
       "5           0.335259           0.343075         0.337261        0.004175   \n",
       "4           0.335213           0.343123         0.337255        0.004210   \n",
       "8           0.335126           0.343037         0.337217        0.004167   \n",
       "6           0.335174           0.342980         0.337196        0.004149   \n",
       "1           0.334590           0.342911         0.336932        0.004258   \n",
       "0           0.334910           0.342231         0.336660        0.004026   \n",
       "9           0.334304           0.341992         0.336252        0.004126   \n",
       "\n",
       "   rank_test_score  \n",
       "3                1  \n",
       "2                2  \n",
       "7                3  \n",
       "5                4  \n",
       "4                5  \n",
       "8                6  \n",
       "6                7  \n",
       "1                8  \n",
       "0                9  \n",
       "9               10  "
      ]
     },
     "execution_count": 33,
     "metadata": {},
     "output_type": "execute_result"
    }
   ],
   "source": [
    "pd.DataFrame(lg_random_cv.cv_results_).sort_values('mean_test_score', ascending=False)"
   ]
  },
  {
   "cell_type": "code",
   "execution_count": 34,
   "metadata": {
    "hidden": true
   },
   "outputs": [
    {
     "data": {
      "text/plain": [
       "{'classifier__C': 3.321067365447479, 'classifier__penalty': 'none'}"
      ]
     },
     "execution_count": 34,
     "metadata": {},
     "output_type": "execute_result"
    }
   ],
   "source": [
    "lg_random_cv.best_params_"
   ]
  },
  {
   "cell_type": "markdown",
   "metadata": {
    "hidden": true
   },
   "source": [
    "### Try KNN"
   ]
  },
  {
   "cell_type": "code",
   "execution_count": 35,
   "metadata": {
    "hidden": true
   },
   "outputs": [],
   "source": [
    "# KNN specific hyperparameters\n",
    "pipeKNN = make_pipeline(KNeighborsClassifier(), scaled=True)\n",
    "knn_params = {\n",
    "    \"classifier__n_neighbors\": range(1, 20),\n",
    "    \"classifier__weights\": [\"uniform\", \"distance\"],\n",
    "    \"classifier__p\": [1, 2]\n",
    "}\n",
    "\n",
    "knn_random_cv = RandomizedSearchCV(pipeKNN, knn_params, n_iter=10, cv=3,\n",
    "                                   scoring='f1_weighted', n_jobs=-1)"
   ]
  },
  {
   "cell_type": "code",
   "execution_count": 36,
   "metadata": {
    "hidden": true,
    "scrolled": true
   },
   "outputs": [
    {
     "data": {
      "text/plain": [
       "RandomizedSearchCV(cv=3, error_score='raise-deprecating',\n",
       "                   estimator=Pipeline(memory=None,\n",
       "                                      steps=[('preprocessor',\n",
       "                                              ColumnTransformer(n_jobs=None,\n",
       "                                                                remainder='drop',\n",
       "                                                                sparse_threshold=0.3,\n",
       "                                                                transformer_weights=None,\n",
       "                                                                transformers=[('continuous_var',\n",
       "                                                                               Pipeline(memory=None,\n",
       "                                                                                        steps=[('imputer',\n",
       "                                                                                                SimpleImputer(add_indicator=False,\n",
       "                                                                                                              copy=True,\n",
       "                                                                                                              fill_value=None,\n",
       "                                                                                                              missing_values=n...\n",
       "                                                                   metric_params=None,\n",
       "                                                                   n_jobs=None,\n",
       "                                                                   n_neighbors=5,\n",
       "                                                                   p=2,\n",
       "                                                                   weights='uniform'))],\n",
       "                                      verbose=False),\n",
       "                   iid='warn', n_iter=10, n_jobs=-1,\n",
       "                   param_distributions={'classifier__n_neighbors': range(1, 20),\n",
       "                                        'classifier__p': [1, 2],\n",
       "                                        'classifier__weights': ['uniform',\n",
       "                                                                'distance']},\n",
       "                   pre_dispatch='2*n_jobs', random_state=None, refit=True,\n",
       "                   return_train_score=False, scoring='f1_weighted', verbose=0)"
      ]
     },
     "execution_count": 36,
     "metadata": {},
     "output_type": "execute_result"
    }
   ],
   "source": [
    "knn_random_cv.fit(X_train, y_train)"
   ]
  },
  {
   "cell_type": "markdown",
   "metadata": {
    "hidden": true
   },
   "source": [
    "<b> Look at CV results in data frame\n",
    "* Best classifier was with distance weights, euclidian distance, and k=19 (weighted f1-score = 0.39)\n",
    "</b>"
   ]
  },
  {
   "cell_type": "code",
   "execution_count": 37,
   "metadata": {
    "hidden": true
   },
   "outputs": [
    {
     "data": {
      "text/html": [
       "<div>\n",
       "<style scoped>\n",
       "    .dataframe tbody tr th:only-of-type {\n",
       "        vertical-align: middle;\n",
       "    }\n",
       "\n",
       "    .dataframe tbody tr th {\n",
       "        vertical-align: top;\n",
       "    }\n",
       "\n",
       "    .dataframe thead th {\n",
       "        text-align: right;\n",
       "    }\n",
       "</style>\n",
       "<table border=\"1\" class=\"dataframe\">\n",
       "  <thead>\n",
       "    <tr style=\"text-align: right;\">\n",
       "      <th></th>\n",
       "      <th>mean_fit_time</th>\n",
       "      <th>std_fit_time</th>\n",
       "      <th>mean_score_time</th>\n",
       "      <th>std_score_time</th>\n",
       "      <th>param_classifier__weights</th>\n",
       "      <th>param_classifier__p</th>\n",
       "      <th>param_classifier__n_neighbors</th>\n",
       "      <th>params</th>\n",
       "      <th>split0_test_score</th>\n",
       "      <th>split1_test_score</th>\n",
       "      <th>split2_test_score</th>\n",
       "      <th>mean_test_score</th>\n",
       "      <th>std_test_score</th>\n",
       "      <th>rank_test_score</th>\n",
       "    </tr>\n",
       "  </thead>\n",
       "  <tbody>\n",
       "    <tr>\n",
       "      <td>5</td>\n",
       "      <td>1.347474</td>\n",
       "      <td>0.228122</td>\n",
       "      <td>24.768092</td>\n",
       "      <td>1.071636</td>\n",
       "      <td>distance</td>\n",
       "      <td>2</td>\n",
       "      <td>17</td>\n",
       "      <td>{'classifier__weights': 'distance', 'classifie...</td>\n",
       "      <td>0.385580</td>\n",
       "      <td>0.389961</td>\n",
       "      <td>0.387546</td>\n",
       "      <td>0.387695</td>\n",
       "      <td>0.001792</td>\n",
       "      <td>1</td>\n",
       "    </tr>\n",
       "    <tr>\n",
       "      <td>8</td>\n",
       "      <td>1.053615</td>\n",
       "      <td>0.125342</td>\n",
       "      <td>22.094013</td>\n",
       "      <td>0.542943</td>\n",
       "      <td>distance</td>\n",
       "      <td>2</td>\n",
       "      <td>13</td>\n",
       "      <td>{'classifier__weights': 'distance', 'classifie...</td>\n",
       "      <td>0.382897</td>\n",
       "      <td>0.386956</td>\n",
       "      <td>0.385712</td>\n",
       "      <td>0.385188</td>\n",
       "      <td>0.001698</td>\n",
       "      <td>2</td>\n",
       "    </tr>\n",
       "    <tr>\n",
       "      <td>6</td>\n",
       "      <td>1.097440</td>\n",
       "      <td>0.072497</td>\n",
       "      <td>33.823355</td>\n",
       "      <td>0.321475</td>\n",
       "      <td>uniform</td>\n",
       "      <td>1</td>\n",
       "      <td>16</td>\n",
       "      <td>{'classifier__weights': 'uniform', 'classifier...</td>\n",
       "      <td>0.378246</td>\n",
       "      <td>0.385680</td>\n",
       "      <td>0.384719</td>\n",
       "      <td>0.382880</td>\n",
       "      <td>0.003302</td>\n",
       "      <td>3</td>\n",
       "    </tr>\n",
       "    <tr>\n",
       "      <td>1</td>\n",
       "      <td>1.363824</td>\n",
       "      <td>0.395295</td>\n",
       "      <td>28.790327</td>\n",
       "      <td>6.704805</td>\n",
       "      <td>distance</td>\n",
       "      <td>1</td>\n",
       "      <td>6</td>\n",
       "      <td>{'classifier__weights': 'distance', 'classifie...</td>\n",
       "      <td>0.375087</td>\n",
       "      <td>0.378887</td>\n",
       "      <td>0.379229</td>\n",
       "      <td>0.377733</td>\n",
       "      <td>0.001877</td>\n",
       "      <td>4</td>\n",
       "    </tr>\n",
       "    <tr>\n",
       "      <td>9</td>\n",
       "      <td>1.233315</td>\n",
       "      <td>0.197166</td>\n",
       "      <td>22.716960</td>\n",
       "      <td>0.987033</td>\n",
       "      <td>uniform</td>\n",
       "      <td>1</td>\n",
       "      <td>7</td>\n",
       "      <td>{'classifier__weights': 'uniform', 'classifier...</td>\n",
       "      <td>0.371179</td>\n",
       "      <td>0.373449</td>\n",
       "      <td>0.372536</td>\n",
       "      <td>0.372388</td>\n",
       "      <td>0.000933</td>\n",
       "      <td>5</td>\n",
       "    </tr>\n",
       "    <tr>\n",
       "      <td>7</td>\n",
       "      <td>1.074537</td>\n",
       "      <td>0.104079</td>\n",
       "      <td>20.499186</td>\n",
       "      <td>0.343070</td>\n",
       "      <td>uniform</td>\n",
       "      <td>2</td>\n",
       "      <td>10</td>\n",
       "      <td>{'classifier__weights': 'uniform', 'classifier...</td>\n",
       "      <td>0.368938</td>\n",
       "      <td>0.372520</td>\n",
       "      <td>0.374462</td>\n",
       "      <td>0.371972</td>\n",
       "      <td>0.002288</td>\n",
       "      <td>6</td>\n",
       "    </tr>\n",
       "    <tr>\n",
       "      <td>0</td>\n",
       "      <td>1.987410</td>\n",
       "      <td>0.008211</td>\n",
       "      <td>34.527736</td>\n",
       "      <td>0.248497</td>\n",
       "      <td>uniform</td>\n",
       "      <td>2</td>\n",
       "      <td>9</td>\n",
       "      <td>{'classifier__weights': 'uniform', 'classifier...</td>\n",
       "      <td>0.370201</td>\n",
       "      <td>0.372050</td>\n",
       "      <td>0.371028</td>\n",
       "      <td>0.371093</td>\n",
       "      <td>0.000756</td>\n",
       "      <td>7</td>\n",
       "    </tr>\n",
       "    <tr>\n",
       "      <td>2</td>\n",
       "      <td>1.001614</td>\n",
       "      <td>0.041730</td>\n",
       "      <td>17.286674</td>\n",
       "      <td>1.107367</td>\n",
       "      <td>uniform</td>\n",
       "      <td>2</td>\n",
       "      <td>5</td>\n",
       "      <td>{'classifier__weights': 'uniform', 'classifier...</td>\n",
       "      <td>0.358451</td>\n",
       "      <td>0.361055</td>\n",
       "      <td>0.359559</td>\n",
       "      <td>0.359688</td>\n",
       "      <td>0.001067</td>\n",
       "      <td>8</td>\n",
       "    </tr>\n",
       "    <tr>\n",
       "      <td>3</td>\n",
       "      <td>0.972046</td>\n",
       "      <td>0.028436</td>\n",
       "      <td>31.141202</td>\n",
       "      <td>1.714896</td>\n",
       "      <td>uniform</td>\n",
       "      <td>1</td>\n",
       "      <td>4</td>\n",
       "      <td>{'classifier__weights': 'uniform', 'classifier...</td>\n",
       "      <td>0.355151</td>\n",
       "      <td>0.353853</td>\n",
       "      <td>0.356950</td>\n",
       "      <td>0.355317</td>\n",
       "      <td>0.001270</td>\n",
       "      <td>9</td>\n",
       "    </tr>\n",
       "    <tr>\n",
       "      <td>4</td>\n",
       "      <td>1.591550</td>\n",
       "      <td>0.493534</td>\n",
       "      <td>18.299773</td>\n",
       "      <td>1.975796</td>\n",
       "      <td>distance</td>\n",
       "      <td>2</td>\n",
       "      <td>3</td>\n",
       "      <td>{'classifier__weights': 'distance', 'classifie...</td>\n",
       "      <td>0.339740</td>\n",
       "      <td>0.343396</td>\n",
       "      <td>0.346711</td>\n",
       "      <td>0.343281</td>\n",
       "      <td>0.002847</td>\n",
       "      <td>10</td>\n",
       "    </tr>\n",
       "  </tbody>\n",
       "</table>\n",
       "</div>"
      ],
      "text/plain": [
       "   mean_fit_time  std_fit_time  mean_score_time  std_score_time  \\\n",
       "5       1.347474      0.228122        24.768092        1.071636   \n",
       "8       1.053615      0.125342        22.094013        0.542943   \n",
       "6       1.097440      0.072497        33.823355        0.321475   \n",
       "1       1.363824      0.395295        28.790327        6.704805   \n",
       "9       1.233315      0.197166        22.716960        0.987033   \n",
       "7       1.074537      0.104079        20.499186        0.343070   \n",
       "0       1.987410      0.008211        34.527736        0.248497   \n",
       "2       1.001614      0.041730        17.286674        1.107367   \n",
       "3       0.972046      0.028436        31.141202        1.714896   \n",
       "4       1.591550      0.493534        18.299773        1.975796   \n",
       "\n",
       "  param_classifier__weights param_classifier__p param_classifier__n_neighbors  \\\n",
       "5                  distance                   2                            17   \n",
       "8                  distance                   2                            13   \n",
       "6                   uniform                   1                            16   \n",
       "1                  distance                   1                             6   \n",
       "9                   uniform                   1                             7   \n",
       "7                   uniform                   2                            10   \n",
       "0                   uniform                   2                             9   \n",
       "2                   uniform                   2                             5   \n",
       "3                   uniform                   1                             4   \n",
       "4                  distance                   2                             3   \n",
       "\n",
       "                                              params  split0_test_score  \\\n",
       "5  {'classifier__weights': 'distance', 'classifie...           0.385580   \n",
       "8  {'classifier__weights': 'distance', 'classifie...           0.382897   \n",
       "6  {'classifier__weights': 'uniform', 'classifier...           0.378246   \n",
       "1  {'classifier__weights': 'distance', 'classifie...           0.375087   \n",
       "9  {'classifier__weights': 'uniform', 'classifier...           0.371179   \n",
       "7  {'classifier__weights': 'uniform', 'classifier...           0.368938   \n",
       "0  {'classifier__weights': 'uniform', 'classifier...           0.370201   \n",
       "2  {'classifier__weights': 'uniform', 'classifier...           0.358451   \n",
       "3  {'classifier__weights': 'uniform', 'classifier...           0.355151   \n",
       "4  {'classifier__weights': 'distance', 'classifie...           0.339740   \n",
       "\n",
       "   split1_test_score  split2_test_score  mean_test_score  std_test_score  \\\n",
       "5           0.389961           0.387546         0.387695        0.001792   \n",
       "8           0.386956           0.385712         0.385188        0.001698   \n",
       "6           0.385680           0.384719         0.382880        0.003302   \n",
       "1           0.378887           0.379229         0.377733        0.001877   \n",
       "9           0.373449           0.372536         0.372388        0.000933   \n",
       "7           0.372520           0.374462         0.371972        0.002288   \n",
       "0           0.372050           0.371028         0.371093        0.000756   \n",
       "2           0.361055           0.359559         0.359688        0.001067   \n",
       "3           0.353853           0.356950         0.355317        0.001270   \n",
       "4           0.343396           0.346711         0.343281        0.002847   \n",
       "\n",
       "   rank_test_score  \n",
       "5                1  \n",
       "8                2  \n",
       "6                3  \n",
       "1                4  \n",
       "9                5  \n",
       "7                6  \n",
       "0                7  \n",
       "2                8  \n",
       "3                9  \n",
       "4               10  "
      ]
     },
     "execution_count": 37,
     "metadata": {},
     "output_type": "execute_result"
    }
   ],
   "source": [
    "pd.DataFrame(knn_random_cv.cv_results_).sort_values('mean_test_score', ascending=False)"
   ]
  },
  {
   "cell_type": "code",
   "execution_count": 38,
   "metadata": {
    "hidden": true
   },
   "outputs": [
    {
     "data": {
      "text/plain": [
       "{'classifier__weights': 'distance',\n",
       " 'classifier__p': 2,\n",
       " 'classifier__n_neighbors': 17}"
      ]
     },
     "execution_count": 38,
     "metadata": {},
     "output_type": "execute_result"
    }
   ],
   "source": [
    "knn_random_cv.best_params_"
   ]
  },
  {
   "cell_type": "markdown",
   "metadata": {
    "hidden": true
   },
   "source": [
    "### Random Forest"
   ]
  },
  {
   "cell_type": "code",
   "execution_count": 39,
   "metadata": {
    "hidden": true
   },
   "outputs": [],
   "source": [
    "# Random forest specific hyperparameters\n",
    "pipeRF = make_pipeline(RandomForestClassifier(n_jobs=-1), scaled=False)\n",
    "rf_params = rf_param = {\n",
    "    \"classifier__bootstrap\": [True, False],\n",
    "    \"classifier__max_depth\": [10, 20, 30, 40, 60, 80, 100, None],\n",
    "    \"classifier__max_features\": [\"auto\", \"log2\", None],\n",
    "    \"classifier__min_samples_leaf\": [1, 2, 3, 4, 5, 6],\n",
    "    \"classifier__n_estimators\": [25, 50, 100, 135, 180, 230]\n",
    "}\n",
    "\n",
    "rf_random_cv = RandomizedSearchCV(pipeRF, rf_params, n_iter=25, cv=3,\n",
    "                                  scoring='f1_weighted', n_jobs=-1)"
   ]
  },
  {
   "cell_type": "code",
   "execution_count": 40,
   "metadata": {
    "hidden": true,
    "scrolled": true
   },
   "outputs": [
    {
     "data": {
      "text/plain": [
       "RandomizedSearchCV(cv=3, error_score='raise-deprecating',\n",
       "                   estimator=Pipeline(memory=None,\n",
       "                                      steps=[('preprocessor',\n",
       "                                              ColumnTransformer(n_jobs=None,\n",
       "                                                                remainder='drop',\n",
       "                                                                sparse_threshold=0.3,\n",
       "                                                                transformer_weights=None,\n",
       "                                                                transformers=[('continuous_var',\n",
       "                                                                               Pipeline(memory=None,\n",
       "                                                                                        steps=[('imputer',\n",
       "                                                                                                SimpleImputer(add_indicator=False,\n",
       "                                                                                                              copy=True,\n",
       "                                                                                                              fill_value=None,\n",
       "                                                                                                              missing_values=n...\n",
       "                   param_distributions={'classifier__bootstrap': [True, False],\n",
       "                                        'classifier__max_depth': [10, 20, 30,\n",
       "                                                                  40, 60, 80,\n",
       "                                                                  100, None],\n",
       "                                        'classifier__max_features': ['auto',\n",
       "                                                                     'log2',\n",
       "                                                                     None],\n",
       "                                        'classifier__min_samples_leaf': [1, 2,\n",
       "                                                                         3, 4,\n",
       "                                                                         5, 6],\n",
       "                                        'classifier__n_estimators': [25, 50,\n",
       "                                                                     100, 135,\n",
       "                                                                     180,\n",
       "                                                                     230]},\n",
       "                   pre_dispatch='2*n_jobs', random_state=None, refit=True,\n",
       "                   return_train_score=False, scoring='f1_weighted', verbose=0)"
      ]
     },
     "execution_count": 40,
     "metadata": {},
     "output_type": "execute_result"
    }
   ],
   "source": [
    "rf_random_cv.fit(X_train, y_train)"
   ]
  },
  {
   "cell_type": "code",
   "execution_count": 41,
   "metadata": {
    "hidden": true,
    "scrolled": true
   },
   "outputs": [
    {
     "data": {
      "text/html": [
       "<div>\n",
       "<style scoped>\n",
       "    .dataframe tbody tr th:only-of-type {\n",
       "        vertical-align: middle;\n",
       "    }\n",
       "\n",
       "    .dataframe tbody tr th {\n",
       "        vertical-align: top;\n",
       "    }\n",
       "\n",
       "    .dataframe thead th {\n",
       "        text-align: right;\n",
       "    }\n",
       "</style>\n",
       "<table border=\"1\" class=\"dataframe\">\n",
       "  <thead>\n",
       "    <tr style=\"text-align: right;\">\n",
       "      <th></th>\n",
       "      <th>mean_fit_time</th>\n",
       "      <th>std_fit_time</th>\n",
       "      <th>mean_score_time</th>\n",
       "      <th>std_score_time</th>\n",
       "      <th>param_classifier__n_estimators</th>\n",
       "      <th>param_classifier__min_samples_leaf</th>\n",
       "      <th>param_classifier__max_features</th>\n",
       "      <th>param_classifier__max_depth</th>\n",
       "      <th>param_classifier__bootstrap</th>\n",
       "      <th>params</th>\n",
       "      <th>split0_test_score</th>\n",
       "      <th>split1_test_score</th>\n",
       "      <th>split2_test_score</th>\n",
       "      <th>mean_test_score</th>\n",
       "      <th>std_test_score</th>\n",
       "      <th>rank_test_score</th>\n",
       "    </tr>\n",
       "  </thead>\n",
       "  <tbody>\n",
       "    <tr>\n",
       "      <td>23</td>\n",
       "      <td>19.067995</td>\n",
       "      <td>0.344045</td>\n",
       "      <td>0.999087</td>\n",
       "      <td>0.132821</td>\n",
       "      <td>135</td>\n",
       "      <td>2</td>\n",
       "      <td>auto</td>\n",
       "      <td>30</td>\n",
       "      <td>False</td>\n",
       "      <td>{'classifier__n_estimators': 135, 'classifier_...</td>\n",
       "      <td>0.451509</td>\n",
       "      <td>0.456362</td>\n",
       "      <td>0.451295</td>\n",
       "      <td>0.453056</td>\n",
       "      <td>0.002340</td>\n",
       "      <td>1</td>\n",
       "    </tr>\n",
       "    <tr>\n",
       "      <td>10</td>\n",
       "      <td>51.486467</td>\n",
       "      <td>0.626109</td>\n",
       "      <td>2.950078</td>\n",
       "      <td>0.712864</td>\n",
       "      <td>230</td>\n",
       "      <td>2</td>\n",
       "      <td>auto</td>\n",
       "      <td>80</td>\n",
       "      <td>False</td>\n",
       "      <td>{'classifier__n_estimators': 230, 'classifier_...</td>\n",
       "      <td>0.450529</td>\n",
       "      <td>0.456911</td>\n",
       "      <td>0.451498</td>\n",
       "      <td>0.452979</td>\n",
       "      <td>0.002808</td>\n",
       "      <td>2</td>\n",
       "    </tr>\n",
       "    <tr>\n",
       "      <td>5</td>\n",
       "      <td>32.451129</td>\n",
       "      <td>0.383467</td>\n",
       "      <td>2.344939</td>\n",
       "      <td>0.163711</td>\n",
       "      <td>180</td>\n",
       "      <td>4</td>\n",
       "      <td>auto</td>\n",
       "      <td>100</td>\n",
       "      <td>False</td>\n",
       "      <td>{'classifier__n_estimators': 180, 'classifier_...</td>\n",
       "      <td>0.449748</td>\n",
       "      <td>0.455466</td>\n",
       "      <td>0.451975</td>\n",
       "      <td>0.452396</td>\n",
       "      <td>0.002353</td>\n",
       "      <td>3</td>\n",
       "    </tr>\n",
       "    <tr>\n",
       "      <td>13</td>\n",
       "      <td>14.850957</td>\n",
       "      <td>1.388295</td>\n",
       "      <td>1.006970</td>\n",
       "      <td>0.098384</td>\n",
       "      <td>100</td>\n",
       "      <td>4</td>\n",
       "      <td>auto</td>\n",
       "      <td>80</td>\n",
       "      <td>False</td>\n",
       "      <td>{'classifier__n_estimators': 100, 'classifier_...</td>\n",
       "      <td>0.448398</td>\n",
       "      <td>0.455694</td>\n",
       "      <td>0.450362</td>\n",
       "      <td>0.451484</td>\n",
       "      <td>0.003083</td>\n",
       "      <td>4</td>\n",
       "    </tr>\n",
       "    <tr>\n",
       "      <td>15</td>\n",
       "      <td>11.222505</td>\n",
       "      <td>0.305404</td>\n",
       "      <td>1.059469</td>\n",
       "      <td>0.138993</td>\n",
       "      <td>100</td>\n",
       "      <td>1</td>\n",
       "      <td>log2</td>\n",
       "      <td>20</td>\n",
       "      <td>True</td>\n",
       "      <td>{'classifier__n_estimators': 100, 'classifier_...</td>\n",
       "      <td>0.447103</td>\n",
       "      <td>0.454209</td>\n",
       "      <td>0.450325</td>\n",
       "      <td>0.450545</td>\n",
       "      <td>0.002905</td>\n",
       "      <td>5</td>\n",
       "    </tr>\n",
       "    <tr>\n",
       "      <td>6</td>\n",
       "      <td>19.276849</td>\n",
       "      <td>0.005452</td>\n",
       "      <td>1.305394</td>\n",
       "      <td>0.317383</td>\n",
       "      <td>100</td>\n",
       "      <td>4</td>\n",
       "      <td>auto</td>\n",
       "      <td>20</td>\n",
       "      <td>False</td>\n",
       "      <td>{'classifier__n_estimators': 100, 'classifier_...</td>\n",
       "      <td>0.447762</td>\n",
       "      <td>0.453095</td>\n",
       "      <td>0.448093</td>\n",
       "      <td>0.449650</td>\n",
       "      <td>0.002440</td>\n",
       "      <td>6</td>\n",
       "    </tr>\n",
       "    <tr>\n",
       "      <td>3</td>\n",
       "      <td>36.170922</td>\n",
       "      <td>0.485454</td>\n",
       "      <td>3.711524</td>\n",
       "      <td>0.393055</td>\n",
       "      <td>135</td>\n",
       "      <td>1</td>\n",
       "      <td>auto</td>\n",
       "      <td>30</td>\n",
       "      <td>False</td>\n",
       "      <td>{'classifier__n_estimators': 135, 'classifier_...</td>\n",
       "      <td>0.448831</td>\n",
       "      <td>0.453918</td>\n",
       "      <td>0.445695</td>\n",
       "      <td>0.449482</td>\n",
       "      <td>0.003388</td>\n",
       "      <td>7</td>\n",
       "    </tr>\n",
       "    <tr>\n",
       "      <td>0</td>\n",
       "      <td>21.641407</td>\n",
       "      <td>0.193180</td>\n",
       "      <td>1.469986</td>\n",
       "      <td>0.147244</td>\n",
       "      <td>135</td>\n",
       "      <td>6</td>\n",
       "      <td>log2</td>\n",
       "      <td>60</td>\n",
       "      <td>False</td>\n",
       "      <td>{'classifier__n_estimators': 135, 'classifier_...</td>\n",
       "      <td>0.447134</td>\n",
       "      <td>0.451747</td>\n",
       "      <td>0.449481</td>\n",
       "      <td>0.449454</td>\n",
       "      <td>0.001883</td>\n",
       "      <td>8</td>\n",
       "    </tr>\n",
       "    <tr>\n",
       "      <td>20</td>\n",
       "      <td>26.483767</td>\n",
       "      <td>0.141945</td>\n",
       "      <td>1.814939</td>\n",
       "      <td>0.127716</td>\n",
       "      <td>230</td>\n",
       "      <td>6</td>\n",
       "      <td>auto</td>\n",
       "      <td>None</td>\n",
       "      <td>False</td>\n",
       "      <td>{'classifier__n_estimators': 230, 'classifier_...</td>\n",
       "      <td>0.445647</td>\n",
       "      <td>0.453082</td>\n",
       "      <td>0.449093</td>\n",
       "      <td>0.449273</td>\n",
       "      <td>0.003038</td>\n",
       "      <td>9</td>\n",
       "    </tr>\n",
       "    <tr>\n",
       "      <td>14</td>\n",
       "      <td>7.315475</td>\n",
       "      <td>0.209305</td>\n",
       "      <td>0.716247</td>\n",
       "      <td>0.174157</td>\n",
       "      <td>50</td>\n",
       "      <td>4</td>\n",
       "      <td>log2</td>\n",
       "      <td>40</td>\n",
       "      <td>False</td>\n",
       "      <td>{'classifier__n_estimators': 50, 'classifier__...</td>\n",
       "      <td>0.445748</td>\n",
       "      <td>0.452638</td>\n",
       "      <td>0.448674</td>\n",
       "      <td>0.449019</td>\n",
       "      <td>0.002824</td>\n",
       "      <td>10</td>\n",
       "    </tr>\n",
       "    <tr>\n",
       "      <td>4</td>\n",
       "      <td>23.329891</td>\n",
       "      <td>2.148810</td>\n",
       "      <td>0.905486</td>\n",
       "      <td>0.278919</td>\n",
       "      <td>50</td>\n",
       "      <td>5</td>\n",
       "      <td>None</td>\n",
       "      <td>None</td>\n",
       "      <td>True</td>\n",
       "      <td>{'classifier__n_estimators': 50, 'classifier__...</td>\n",
       "      <td>0.444336</td>\n",
       "      <td>0.451894</td>\n",
       "      <td>0.448300</td>\n",
       "      <td>0.448176</td>\n",
       "      <td>0.003087</td>\n",
       "      <td>11</td>\n",
       "    </tr>\n",
       "    <tr>\n",
       "      <td>16</td>\n",
       "      <td>4.683949</td>\n",
       "      <td>0.298544</td>\n",
       "      <td>0.488815</td>\n",
       "      <td>0.147996</td>\n",
       "      <td>25</td>\n",
       "      <td>5</td>\n",
       "      <td>log2</td>\n",
       "      <td>30</td>\n",
       "      <td>False</td>\n",
       "      <td>{'classifier__n_estimators': 25, 'classifier__...</td>\n",
       "      <td>0.443855</td>\n",
       "      <td>0.451049</td>\n",
       "      <td>0.446236</td>\n",
       "      <td>0.447046</td>\n",
       "      <td>0.002993</td>\n",
       "      <td>12</td>\n",
       "    </tr>\n",
       "    <tr>\n",
       "      <td>18</td>\n",
       "      <td>9.505021</td>\n",
       "      <td>0.282209</td>\n",
       "      <td>1.025262</td>\n",
       "      <td>0.131776</td>\n",
       "      <td>100</td>\n",
       "      <td>4</td>\n",
       "      <td>log2</td>\n",
       "      <td>100</td>\n",
       "      <td>True</td>\n",
       "      <td>{'classifier__n_estimators': 100, 'classifier_...</td>\n",
       "      <td>0.442594</td>\n",
       "      <td>0.449785</td>\n",
       "      <td>0.447434</td>\n",
       "      <td>0.446603</td>\n",
       "      <td>0.002994</td>\n",
       "      <td>13</td>\n",
       "    </tr>\n",
       "    <tr>\n",
       "      <td>7</td>\n",
       "      <td>19.365810</td>\n",
       "      <td>0.362150</td>\n",
       "      <td>1.792124</td>\n",
       "      <td>0.091068</td>\n",
       "      <td>180</td>\n",
       "      <td>5</td>\n",
       "      <td>log2</td>\n",
       "      <td>30</td>\n",
       "      <td>True</td>\n",
       "      <td>{'classifier__n_estimators': 180, 'classifier_...</td>\n",
       "      <td>0.443041</td>\n",
       "      <td>0.449241</td>\n",
       "      <td>0.446843</td>\n",
       "      <td>0.446374</td>\n",
       "      <td>0.002553</td>\n",
       "      <td>14</td>\n",
       "    </tr>\n",
       "    <tr>\n",
       "      <td>12</td>\n",
       "      <td>25.844329</td>\n",
       "      <td>4.993192</td>\n",
       "      <td>0.691198</td>\n",
       "      <td>0.145530</td>\n",
       "      <td>50</td>\n",
       "      <td>1</td>\n",
       "      <td>None</td>\n",
       "      <td>40</td>\n",
       "      <td>True</td>\n",
       "      <td>{'classifier__n_estimators': 50, 'classifier__...</td>\n",
       "      <td>0.445770</td>\n",
       "      <td>0.449197</td>\n",
       "      <td>0.443509</td>\n",
       "      <td>0.446159</td>\n",
       "      <td>0.002338</td>\n",
       "      <td>15</td>\n",
       "    </tr>\n",
       "    <tr>\n",
       "      <td>9</td>\n",
       "      <td>5.335546</td>\n",
       "      <td>0.082824</td>\n",
       "      <td>0.515180</td>\n",
       "      <td>0.126282</td>\n",
       "      <td>25</td>\n",
       "      <td>4</td>\n",
       "      <td>auto</td>\n",
       "      <td>20</td>\n",
       "      <td>False</td>\n",
       "      <td>{'classifier__n_estimators': 25, 'classifier__...</td>\n",
       "      <td>0.443157</td>\n",
       "      <td>0.446549</td>\n",
       "      <td>0.445925</td>\n",
       "      <td>0.445210</td>\n",
       "      <td>0.001474</td>\n",
       "      <td>16</td>\n",
       "    </tr>\n",
       "    <tr>\n",
       "      <td>17</td>\n",
       "      <td>4.055512</td>\n",
       "      <td>0.286882</td>\n",
       "      <td>0.437414</td>\n",
       "      <td>0.087935</td>\n",
       "      <td>25</td>\n",
       "      <td>3</td>\n",
       "      <td>auto</td>\n",
       "      <td>30</td>\n",
       "      <td>False</td>\n",
       "      <td>{'classifier__n_estimators': 25, 'classifier__...</td>\n",
       "      <td>0.442990</td>\n",
       "      <td>0.446562</td>\n",
       "      <td>0.444692</td>\n",
       "      <td>0.444747</td>\n",
       "      <td>0.001459</td>\n",
       "      <td>17</td>\n",
       "    </tr>\n",
       "    <tr>\n",
       "      <td>1</td>\n",
       "      <td>14.451900</td>\n",
       "      <td>0.270082</td>\n",
       "      <td>1.219713</td>\n",
       "      <td>0.361051</td>\n",
       "      <td>135</td>\n",
       "      <td>6</td>\n",
       "      <td>log2</td>\n",
       "      <td>20</td>\n",
       "      <td>True</td>\n",
       "      <td>{'classifier__n_estimators': 135, 'classifier_...</td>\n",
       "      <td>0.439526</td>\n",
       "      <td>0.448836</td>\n",
       "      <td>0.444955</td>\n",
       "      <td>0.444438</td>\n",
       "      <td>0.003819</td>\n",
       "      <td>18</td>\n",
       "    </tr>\n",
       "    <tr>\n",
       "      <td>2</td>\n",
       "      <td>12.194369</td>\n",
       "      <td>0.927092</td>\n",
       "      <td>1.203529</td>\n",
       "      <td>0.204679</td>\n",
       "      <td>50</td>\n",
       "      <td>1</td>\n",
       "      <td>auto</td>\n",
       "      <td>80</td>\n",
       "      <td>False</td>\n",
       "      <td>{'classifier__n_estimators': 50, 'classifier__...</td>\n",
       "      <td>0.442748</td>\n",
       "      <td>0.444080</td>\n",
       "      <td>0.443861</td>\n",
       "      <td>0.443563</td>\n",
       "      <td>0.000583</td>\n",
       "      <td>19</td>\n",
       "    </tr>\n",
       "    <tr>\n",
       "      <td>11</td>\n",
       "      <td>5.303481</td>\n",
       "      <td>0.277840</td>\n",
       "      <td>0.848629</td>\n",
       "      <td>0.107539</td>\n",
       "      <td>25</td>\n",
       "      <td>5</td>\n",
       "      <td>log2</td>\n",
       "      <td>100</td>\n",
       "      <td>True</td>\n",
       "      <td>{'classifier__n_estimators': 25, 'classifier__...</td>\n",
       "      <td>0.438257</td>\n",
       "      <td>0.447058</td>\n",
       "      <td>0.440998</td>\n",
       "      <td>0.442104</td>\n",
       "      <td>0.003678</td>\n",
       "      <td>20</td>\n",
       "    </tr>\n",
       "    <tr>\n",
       "      <td>24</td>\n",
       "      <td>3.922483</td>\n",
       "      <td>0.047319</td>\n",
       "      <td>0.517902</td>\n",
       "      <td>0.014523</td>\n",
       "      <td>25</td>\n",
       "      <td>3</td>\n",
       "      <td>auto</td>\n",
       "      <td>100</td>\n",
       "      <td>True</td>\n",
       "      <td>{'classifier__n_estimators': 25, 'classifier__...</td>\n",
       "      <td>0.441845</td>\n",
       "      <td>0.442327</td>\n",
       "      <td>0.439482</td>\n",
       "      <td>0.441218</td>\n",
       "      <td>0.001243</td>\n",
       "      <td>21</td>\n",
       "    </tr>\n",
       "    <tr>\n",
       "      <td>22</td>\n",
       "      <td>4.373326</td>\n",
       "      <td>0.217747</td>\n",
       "      <td>0.385512</td>\n",
       "      <td>0.037208</td>\n",
       "      <td>50</td>\n",
       "      <td>2</td>\n",
       "      <td>log2</td>\n",
       "      <td>10</td>\n",
       "      <td>False</td>\n",
       "      <td>{'classifier__n_estimators': 50, 'classifier__...</td>\n",
       "      <td>0.415452</td>\n",
       "      <td>0.419947</td>\n",
       "      <td>0.417894</td>\n",
       "      <td>0.417764</td>\n",
       "      <td>0.001838</td>\n",
       "      <td>22</td>\n",
       "    </tr>\n",
       "    <tr>\n",
       "      <td>8</td>\n",
       "      <td>11.037532</td>\n",
       "      <td>0.105267</td>\n",
       "      <td>0.784452</td>\n",
       "      <td>0.093699</td>\n",
       "      <td>100</td>\n",
       "      <td>4</td>\n",
       "      <td>log2</td>\n",
       "      <td>10</td>\n",
       "      <td>False</td>\n",
       "      <td>{'classifier__n_estimators': 100, 'classifier_...</td>\n",
       "      <td>0.413426</td>\n",
       "      <td>0.421919</td>\n",
       "      <td>0.415360</td>\n",
       "      <td>0.416901</td>\n",
       "      <td>0.003635</td>\n",
       "      <td>23</td>\n",
       "    </tr>\n",
       "    <tr>\n",
       "      <td>21</td>\n",
       "      <td>6.539165</td>\n",
       "      <td>0.629604</td>\n",
       "      <td>0.655231</td>\n",
       "      <td>0.024599</td>\n",
       "      <td>100</td>\n",
       "      <td>6</td>\n",
       "      <td>auto</td>\n",
       "      <td>10</td>\n",
       "      <td>True</td>\n",
       "      <td>{'classifier__n_estimators': 100, 'classifier_...</td>\n",
       "      <td>0.412699</td>\n",
       "      <td>0.420987</td>\n",
       "      <td>0.416579</td>\n",
       "      <td>0.416754</td>\n",
       "      <td>0.003386</td>\n",
       "      <td>24</td>\n",
       "    </tr>\n",
       "    <tr>\n",
       "      <td>19</td>\n",
       "      <td>12.291770</td>\n",
       "      <td>0.472843</td>\n",
       "      <td>0.602651</td>\n",
       "      <td>0.072412</td>\n",
       "      <td>25</td>\n",
       "      <td>6</td>\n",
       "      <td>None</td>\n",
       "      <td>100</td>\n",
       "      <td>False</td>\n",
       "      <td>{'classifier__n_estimators': 25, 'classifier__...</td>\n",
       "      <td>0.380371</td>\n",
       "      <td>0.387858</td>\n",
       "      <td>0.384836</td>\n",
       "      <td>0.384354</td>\n",
       "      <td>0.003076</td>\n",
       "      <td>25</td>\n",
       "    </tr>\n",
       "  </tbody>\n",
       "</table>\n",
       "</div>"
      ],
      "text/plain": [
       "    mean_fit_time  std_fit_time  mean_score_time  std_score_time  \\\n",
       "23      19.067995      0.344045         0.999087        0.132821   \n",
       "10      51.486467      0.626109         2.950078        0.712864   \n",
       "5       32.451129      0.383467         2.344939        0.163711   \n",
       "13      14.850957      1.388295         1.006970        0.098384   \n",
       "15      11.222505      0.305404         1.059469        0.138993   \n",
       "6       19.276849      0.005452         1.305394        0.317383   \n",
       "3       36.170922      0.485454         3.711524        0.393055   \n",
       "0       21.641407      0.193180         1.469986        0.147244   \n",
       "20      26.483767      0.141945         1.814939        0.127716   \n",
       "14       7.315475      0.209305         0.716247        0.174157   \n",
       "4       23.329891      2.148810         0.905486        0.278919   \n",
       "16       4.683949      0.298544         0.488815        0.147996   \n",
       "18       9.505021      0.282209         1.025262        0.131776   \n",
       "7       19.365810      0.362150         1.792124        0.091068   \n",
       "12      25.844329      4.993192         0.691198        0.145530   \n",
       "9        5.335546      0.082824         0.515180        0.126282   \n",
       "17       4.055512      0.286882         0.437414        0.087935   \n",
       "1       14.451900      0.270082         1.219713        0.361051   \n",
       "2       12.194369      0.927092         1.203529        0.204679   \n",
       "11       5.303481      0.277840         0.848629        0.107539   \n",
       "24       3.922483      0.047319         0.517902        0.014523   \n",
       "22       4.373326      0.217747         0.385512        0.037208   \n",
       "8       11.037532      0.105267         0.784452        0.093699   \n",
       "21       6.539165      0.629604         0.655231        0.024599   \n",
       "19      12.291770      0.472843         0.602651        0.072412   \n",
       "\n",
       "   param_classifier__n_estimators param_classifier__min_samples_leaf  \\\n",
       "23                            135                                  2   \n",
       "10                            230                                  2   \n",
       "5                             180                                  4   \n",
       "13                            100                                  4   \n",
       "15                            100                                  1   \n",
       "6                             100                                  4   \n",
       "3                             135                                  1   \n",
       "0                             135                                  6   \n",
       "20                            230                                  6   \n",
       "14                             50                                  4   \n",
       "4                              50                                  5   \n",
       "16                             25                                  5   \n",
       "18                            100                                  4   \n",
       "7                             180                                  5   \n",
       "12                             50                                  1   \n",
       "9                              25                                  4   \n",
       "17                             25                                  3   \n",
       "1                             135                                  6   \n",
       "2                              50                                  1   \n",
       "11                             25                                  5   \n",
       "24                             25                                  3   \n",
       "22                             50                                  2   \n",
       "8                             100                                  4   \n",
       "21                            100                                  6   \n",
       "19                             25                                  6   \n",
       "\n",
       "   param_classifier__max_features param_classifier__max_depth  \\\n",
       "23                           auto                          30   \n",
       "10                           auto                          80   \n",
       "5                            auto                         100   \n",
       "13                           auto                          80   \n",
       "15                           log2                          20   \n",
       "6                            auto                          20   \n",
       "3                            auto                          30   \n",
       "0                            log2                          60   \n",
       "20                           auto                        None   \n",
       "14                           log2                          40   \n",
       "4                            None                        None   \n",
       "16                           log2                          30   \n",
       "18                           log2                         100   \n",
       "7                            log2                          30   \n",
       "12                           None                          40   \n",
       "9                            auto                          20   \n",
       "17                           auto                          30   \n",
       "1                            log2                          20   \n",
       "2                            auto                          80   \n",
       "11                           log2                         100   \n",
       "24                           auto                         100   \n",
       "22                           log2                          10   \n",
       "8                            log2                          10   \n",
       "21                           auto                          10   \n",
       "19                           None                         100   \n",
       "\n",
       "   param_classifier__bootstrap  \\\n",
       "23                       False   \n",
       "10                       False   \n",
       "5                        False   \n",
       "13                       False   \n",
       "15                        True   \n",
       "6                        False   \n",
       "3                        False   \n",
       "0                        False   \n",
       "20                       False   \n",
       "14                       False   \n",
       "4                         True   \n",
       "16                       False   \n",
       "18                        True   \n",
       "7                         True   \n",
       "12                        True   \n",
       "9                        False   \n",
       "17                       False   \n",
       "1                         True   \n",
       "2                        False   \n",
       "11                        True   \n",
       "24                        True   \n",
       "22                       False   \n",
       "8                        False   \n",
       "21                        True   \n",
       "19                       False   \n",
       "\n",
       "                                               params  split0_test_score  \\\n",
       "23  {'classifier__n_estimators': 135, 'classifier_...           0.451509   \n",
       "10  {'classifier__n_estimators': 230, 'classifier_...           0.450529   \n",
       "5   {'classifier__n_estimators': 180, 'classifier_...           0.449748   \n",
       "13  {'classifier__n_estimators': 100, 'classifier_...           0.448398   \n",
       "15  {'classifier__n_estimators': 100, 'classifier_...           0.447103   \n",
       "6   {'classifier__n_estimators': 100, 'classifier_...           0.447762   \n",
       "3   {'classifier__n_estimators': 135, 'classifier_...           0.448831   \n",
       "0   {'classifier__n_estimators': 135, 'classifier_...           0.447134   \n",
       "20  {'classifier__n_estimators': 230, 'classifier_...           0.445647   \n",
       "14  {'classifier__n_estimators': 50, 'classifier__...           0.445748   \n",
       "4   {'classifier__n_estimators': 50, 'classifier__...           0.444336   \n",
       "16  {'classifier__n_estimators': 25, 'classifier__...           0.443855   \n",
       "18  {'classifier__n_estimators': 100, 'classifier_...           0.442594   \n",
       "7   {'classifier__n_estimators': 180, 'classifier_...           0.443041   \n",
       "12  {'classifier__n_estimators': 50, 'classifier__...           0.445770   \n",
       "9   {'classifier__n_estimators': 25, 'classifier__...           0.443157   \n",
       "17  {'classifier__n_estimators': 25, 'classifier__...           0.442990   \n",
       "1   {'classifier__n_estimators': 135, 'classifier_...           0.439526   \n",
       "2   {'classifier__n_estimators': 50, 'classifier__...           0.442748   \n",
       "11  {'classifier__n_estimators': 25, 'classifier__...           0.438257   \n",
       "24  {'classifier__n_estimators': 25, 'classifier__...           0.441845   \n",
       "22  {'classifier__n_estimators': 50, 'classifier__...           0.415452   \n",
       "8   {'classifier__n_estimators': 100, 'classifier_...           0.413426   \n",
       "21  {'classifier__n_estimators': 100, 'classifier_...           0.412699   \n",
       "19  {'classifier__n_estimators': 25, 'classifier__...           0.380371   \n",
       "\n",
       "    split1_test_score  split2_test_score  mean_test_score  std_test_score  \\\n",
       "23           0.456362           0.451295         0.453056        0.002340   \n",
       "10           0.456911           0.451498         0.452979        0.002808   \n",
       "5            0.455466           0.451975         0.452396        0.002353   \n",
       "13           0.455694           0.450362         0.451484        0.003083   \n",
       "15           0.454209           0.450325         0.450545        0.002905   \n",
       "6            0.453095           0.448093         0.449650        0.002440   \n",
       "3            0.453918           0.445695         0.449482        0.003388   \n",
       "0            0.451747           0.449481         0.449454        0.001883   \n",
       "20           0.453082           0.449093         0.449273        0.003038   \n",
       "14           0.452638           0.448674         0.449019        0.002824   \n",
       "4            0.451894           0.448300         0.448176        0.003087   \n",
       "16           0.451049           0.446236         0.447046        0.002993   \n",
       "18           0.449785           0.447434         0.446603        0.002994   \n",
       "7            0.449241           0.446843         0.446374        0.002553   \n",
       "12           0.449197           0.443509         0.446159        0.002338   \n",
       "9            0.446549           0.445925         0.445210        0.001474   \n",
       "17           0.446562           0.444692         0.444747        0.001459   \n",
       "1            0.448836           0.444955         0.444438        0.003819   \n",
       "2            0.444080           0.443861         0.443563        0.000583   \n",
       "11           0.447058           0.440998         0.442104        0.003678   \n",
       "24           0.442327           0.439482         0.441218        0.001243   \n",
       "22           0.419947           0.417894         0.417764        0.001838   \n",
       "8            0.421919           0.415360         0.416901        0.003635   \n",
       "21           0.420987           0.416579         0.416754        0.003386   \n",
       "19           0.387858           0.384836         0.384354        0.003076   \n",
       "\n",
       "    rank_test_score  \n",
       "23                1  \n",
       "10                2  \n",
       "5                 3  \n",
       "13                4  \n",
       "15                5  \n",
       "6                 6  \n",
       "3                 7  \n",
       "0                 8  \n",
       "20                9  \n",
       "14               10  \n",
       "4                11  \n",
       "16               12  \n",
       "18               13  \n",
       "7                14  \n",
       "12               15  \n",
       "9                16  \n",
       "17               17  \n",
       "1                18  \n",
       "2                19  \n",
       "11               20  \n",
       "24               21  \n",
       "22               22  \n",
       "8                23  \n",
       "21               24  \n",
       "19               25  "
      ]
     },
     "execution_count": 41,
     "metadata": {},
     "output_type": "execute_result"
    }
   ],
   "source": [
    "rf_cv_results = pd.DataFrame(rf_random_cv.cv_results_).sort_values('mean_test_score', ascending=False)\n",
    "rf_cv_results "
   ]
  },
  {
   "cell_type": "code",
   "execution_count": 42,
   "metadata": {
    "hidden": true
   },
   "outputs": [
    {
     "data": {
      "text/plain": [
       "{'classifier__n_estimators': 135,\n",
       " 'classifier__min_samples_leaf': 2,\n",
       " 'classifier__max_features': 'auto',\n",
       " 'classifier__max_depth': 30,\n",
       " 'classifier__bootstrap': False}"
      ]
     },
     "execution_count": 42,
     "metadata": {},
     "output_type": "execute_result"
    }
   ],
   "source": [
    "rf_random_cv.best_params_"
   ]
  },
  {
   "cell_type": "code",
   "execution_count": 43,
   "metadata": {
    "hidden": true
   },
   "outputs": [],
   "source": [
    "y_test_preds = rf_random_cv.predict(X_test)"
   ]
  },
  {
   "cell_type": "code",
   "execution_count": 44,
   "metadata": {
    "hidden": true
   },
   "outputs": [
    {
     "name": "stdout",
     "output_type": "stream",
     "text": [
      "0.4551 F1-score on test dataset\n"
     ]
    },
    {
     "name": "stderr",
     "output_type": "stream",
     "text": [
      "/Users/jacobgoffin/anaconda3/envs/ml/lib/python3.7/site-packages/sklearn/metrics/classification.py:1437: UndefinedMetricWarning: F-score is ill-defined and being set to 0.0 in labels with no predicted samples.\n",
      "  'precision', 'predicted', average, warn_for)\n"
     ]
    }
   ],
   "source": [
    "f1_test = f1_score(y_test, y_test_preds, average='weighted')\n",
    "print(f\"{f1_test:.4f} F1-score on test dataset\")"
   ]
  },
  {
   "cell_type": "markdown",
   "metadata": {
    "hidden": true
   },
   "source": [
    "<b> Random Forest is the model that performs the best among the three, but it does overfit.\n",
    "* Weighted f1-Score (with errors from standard deviation of CV scores): 0.4571 +/- 0.001612\n",
    "* At least errors are very narrow (CV scores are stable)\n",
    "</b> \n"
   ]
  },
  {
   "cell_type": "code",
   "execution_count": 45,
   "metadata": {
    "hidden": true
   },
   "outputs": [
    {
     "data": {
      "image/png": "[encoded data removed]",
      "text/plain": [
       "<Figure size 1440x864 with 2 Axes>"
      ]
     },
     "metadata": {
      "needs_background": "light"
     },
     "output_type": "display_data"
    }
   ],
   "source": [
    "# Produce the confusion matrix\n",
    "cm = confusion_matrix(y_test, y_test_preds, labels=np.unique(y_test))\n",
    "\n",
    "# Store the labels of the categories\n",
    "label, _ = np.unique(y_test, return_counts=True)\n",
    "\n",
    "# Create a dataframe and compute the percentage per row\n",
    "confusion_mat = pd.DataFrame(cm, columns=label, index=label)\n",
    "confusion_mat = confusion_mat.divide(confusion_mat.sum(axis=1), axis=0) * 100\n",
    "\n",
    "plt.figure(figsize=(20, 12))\n",
    "ax = heatmap(confusion_mat, annot=True, annot_kws={\"size\": 8}, cmap=\"Blues\")"
   ]
  },
  {
   "cell_type": "markdown",
   "metadata": {
    "hidden": true
   },
   "source": [
    "<b> From this confusion matrix, here are some results that show the styles may be overlapping. These are areas where the model performs poorly and could inform Beer Makers on how to better classify styles.\n",
    "</b>"
   ]
  },
  {
   "cell_type": "markdown",
   "metadata": {
    "hidden": true
   },
   "source": [
    "|                      \t| American Porter and Stout \t| Pale Commonwealth Ale             \t| Strong American Ale \t|\n",
    "|----------------------\t|---------------------------\t|-----------------------------------\t|---------------------\t|\n",
    "| Correctly classified \t|            65%            \t|                11%                \t|         45%         \t|\n",
    "| Mis-classified       \t|   22% Dark British Beer   \t| 31% - IPA 30% - Pale American Ale \t|       36% IPA       \t|"
   ]
  },
  {
   "cell_type": "markdown",
   "metadata": {
    "hidden": true
   },
   "source": [
    "<b> We used the classification report to look at the results by classes with our North Star metric, F1-score, as well as performance with accuracy, precision and recall scores. \n",
    "* Our weighted f1-score is 0.46, recall is 0.49, and precision is 0.46. Precision and recall being similar seems to indicate our model is getting false positives and false negatives in approximately equal quantities\n",
    "* Our accuracy is 0.49, and even with some imbalanced classes achieving this across 34 styles is pretty good (at least compared to what a human could achieve)\n",
    "</b>"
   ]
  },
  {
   "cell_type": "code",
   "execution_count": 47,
   "metadata": {
    "hidden": true
   },
   "outputs": [
    {
     "name": "stdout",
     "output_type": "stream",
     "text": [
      "                               precision    recall  f1-score   support\n",
      "\n",
      "ALTERNATIVE FERMENTABLES BEER       0.22      0.02      0.03       126\n",
      "AMBER AND BROWN AMERICAN BEER       0.34      0.38      0.36       878\n",
      "   AMBER BITTER EUROPEAN BEER       0.43      0.30      0.35       113\n",
      "   AMBER MALTY EUROPEAN LAGER       0.52      0.41      0.46       157\n",
      "    AMERICAN PORTER AND STOUT       0.52      0.67      0.58       726\n",
      "            AMERICAN WILD ALE       0.25      0.02      0.04        53\n",
      "                  BELGIAN ALE       0.31      0.16      0.21       376\n",
      "               BRITISH BITTER       0.47      0.40      0.43       496\n",
      "           BROWN BRITISH BEER       0.46      0.34      0.39       170\n",
      "                  CZECH LAGER       0.33      0.09      0.14        94\n",
      "            DARK BRITISH BEER       0.48      0.48      0.48       454\n",
      "          DARK EUROPEAN LAGER       0.66      0.41      0.51        95\n",
      "            EUROPEAN SOUR ALE       0.47      0.33      0.39       178\n",
      "                   FRUIT BEER       0.20      0.01      0.02       118\n",
      "            GERMAN WHEAT BEER       0.40      0.47      0.43       502\n",
      "              HISTORICAL BEER       0.17      0.03      0.04        80\n",
      "          INTERNATIONAL LAGER       0.18      0.03      0.06        87\n",
      "                          IPA       0.64      0.80      0.71      3083\n",
      "                   IRISH BEER       0.38      0.35      0.36       306\n",
      "            PALE AMERICAN ALE       0.44      0.61      0.51      1867\n",
      "    PALE BITTER EUROPEAN BEER       0.49      0.52      0.50       386\n",
      "       PALE COMMONWEALTH BEER       0.55      0.03      0.05       221\n",
      "    PALE MALTY EUROPEAN LAGER       0.53      0.31      0.39       123\n",
      "                 SCOTTISH ALE       0.42      0.15      0.22       101\n",
      "                  SMOKED BEER       1.00      0.02      0.04        51\n",
      "               SPECIALTY BEER       0.09      0.01      0.02       313\n",
      "                  SPICED BEER       0.18      0.06      0.09       215\n",
      "       STANDARD AMERICAN BEER       0.32      0.25      0.28       842\n",
      "          STRONG AMERICAN ALE       0.40      0.18      0.25       286\n",
      "           STRONG BELGIAN ALE       0.47      0.54      0.50       693\n",
      "           STRONG BRITISH ALE       0.45      0.32      0.38       179\n",
      "         STRONG EUROPEAN BEER       0.52      0.34      0.41       120\n",
      "                 TRAPPIST ALE       0.42      0.60      0.49       351\n",
      "                    WOOD BEER       0.00      0.00      0.00        16\n",
      "\n",
      "                     accuracy                           0.49     13856\n",
      "                    macro avg       0.40      0.28      0.30     13856\n",
      "                 weighted avg       0.46      0.49      0.46     13856\n",
      "\n"
     ]
    }
   ],
   "source": [
    "print(classification_report(y_test, y_test_preds))"
   ]
  },
  {
   "cell_type": "markdown",
   "metadata": {
    "hidden": true
   },
   "source": [
    "<b>There seems to be some correlation between support and f1-score</b>"
   ]
  },
  {
   "cell_type": "code",
   "execution_count": 51,
   "metadata": {
    "hidden": true,
    "scrolled": false
   },
   "outputs": [
    {
     "data": {
      "image/png": "[encoded data removed]",
      "text/plain": [
       "<Figure size 864x432 with 1 Axes>"
      ]
     },
     "metadata": {
      "needs_background": "light"
     },
     "output_type": "display_data"
    }
   ],
   "source": [
    "# Store classification report in data frame and look\n",
    "cr_df = pd.DataFrame(classification_report(y_test, y_test_preds, output_dict=True)).transpose()\n",
    "plt.figure(figsize=(12,6))\n",
    "plt.scatter(cr_df.support, cr_df['f1-score'])\n",
    "plt.xlabel('Support')\n",
    "plt.ylabel('f1-score')\n",
    "plt.title('Light positive relationship between the support of a style and its f1-score')\n",
    "plt.show()"
   ]
  },
  {
   "cell_type": "markdown",
   "metadata": {
    "heading_collapsed": true
   },
   "source": [
    "## Conclusion\n",
    "-----"
   ]
  },
  {
   "cell_type": "markdown",
   "metadata": {
    "hidden": true
   },
   "source": [
    "We learned a lot in this end-to-end effort of formulating a problem, processing data, coming up with an initial model, iterating, and interpreting our results. Our main takeaways are listed below:\n",
    "* In our situation, the labels of our target variable (Style of Beer) were developed in a subjective, human manner. Beer Judges creat categories that don't exactly map to the features that are present in our data. They may group beers for historical or geographic reasons, and not always exclusively because of factors like ABV or IBUs. Therefore there is a lot of inherent overlap in the classes based on our features, and we believe that explained the ceiling we had in our weighted f1-score (<0.50)\n",
    "<br><br>\n",
    "* Random Forest performed the best by far, even with overfitting. We were never able to get our training score down to a similar level as our CV-scores. Again, this may be due to the fact that our data wasn't able to describe the true distribution of beer styles well enough.\n",
    "<br><br>\n",
    "* If Beer Makers wanted to create new style categories that are more in-line with the physical properties of the recipe (Specific Gravity, Color, ABV, etc.), the results of our model could help inform where there is a lot of overlap/confusion between styles currently.\n",
    "<br><br>\n",
    "* Finally, the ceiling on our f1-score could also in large part be due to missing significant exogenous variables. The ones we believe could be very helpful are where the recipe was brewed (country) and list of ingredients used in the recipe. "
   ]
  },
  {
   "cell_type": "code",
   "execution_count": null,
   "metadata": {
    "hidden": true
   },
   "outputs": [],
   "source": []
  }
 ],
 "metadata": {
  "kernelspec": {
   "display_name": "Python 3",
   "language": "python",
   "name": "python3"
  },
  "language_info": {
   "codemirror_mode": {
    "name": "ipython",
    "version": 3
   },
   "file_extension": ".py",
   "mimetype": "text/x-python",
   "name": "python",
   "nbconvert_exporter": "python",
   "pygments_lexer": "ipython3",
   "version": "3.7.4"
  }
 },
 "nbformat": 4,
 "nbformat_minor": 2
}
